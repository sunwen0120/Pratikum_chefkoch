{
 "cells": [
  {
   "cell_type": "code",
   "execution_count": 1,
   "metadata": {},
   "outputs": [],
   "source": [
    "import numpy as np\n",
    "import pandas as pd"
   ]
  },
  {
   "cell_type": "code",
   "execution_count": 5,
   "metadata": {},
   "outputs": [],
   "source": [
    "df_1 = pd.read_csv(\"Beilage.csv\", sep=';', encoding=\"utf-8\")\n",
    "\n",
    "df_2 = pd.read_csv(\"Dessert.csv\", sep=';', encoding=\"utf-8\")\n",
    "df_3 = pd.read_csv(\"Fruehstueck.csv\", sep=';', encoding=\"utf-8\")\n",
    "#df_4 = pd.read_csv(\"/Users/xujingjing/Desktop/chefkoch_2/dataset/Getranke.csv\", sep=';', encoding=\"utf-8\")\n",
    "df_5 = pd.read_csv(\"Hauptspeise.csv\", sep=';', encoding=\"utf-8\")\n",
    "df_6 = pd.read_csv(\"Regional.csv\", sep=';', encoding=\"utf-8\")\n",
    "df_7 = pd.read_csv(\"Salat.csv\", sep=';', encoding=\"utf-8\")\n",
    "df_8 = pd.read_csv(\"Suppen.csv\", sep=';', encoding=\"utf-8\")\n",
    "df_9 = pd.read_csv(\"Vorspeisen.csv\", sep=';', encoding=\"utf-8\")\n",
    "df_10 = pd.read_csv(\"Zubereitungsarten.csv\", sep=';', encoding=\"utf-8\")"
   ]
  },
  {
   "cell_type": "code",
   "execution_count": 6,
   "metadata": {},
   "outputs": [],
   "source": [
    "pdList = [df_1, df_2, df_3, df_5, df_6, df_7, df_8, df_9, df_10]  # List of your dataframes\n",
    "new_df = pd.concat(pdList)"
   ]
  },
  {
   "cell_type": "code",
   "execution_count": 7,
   "metadata": {},
   "outputs": [],
   "source": [
    "# sorting by recipe name \n",
    "new_df.sort_values(\"recipe_name\", inplace = True) \n",
    "  \n",
    "# dropping ALL duplicte values \n",
    "new_df.drop_duplicates(subset =\"recipe_name\", \n",
    "                     keep = False, inplace = True)"
   ]
  },
  {
   "cell_type": "code",
   "execution_count": 8,
   "metadata": {},
   "outputs": [],
   "source": [
    "new_df.reset_index(inplace = True)\n",
    "columns = ['categorize', 'recipe_name', 'tags', 'avg_score', 'difficulty',\n",
    "       'ingredient', 'rating_count', 'calorie', 'preparation_time',\n",
    "       'comment_user', 'recipe_url']"
   ]
  },
  {
   "cell_type": "code",
   "execution_count": 9,
   "metadata": {},
   "outputs": [],
   "source": [
    "new_df[columns].to_csv(\"all_data.csv\", header = True, index = False)"
   ]
  },
  {
   "cell_type": "code",
   "execution_count": null,
   "metadata": {},
   "outputs": [],
   "source": []
  }
 ],
 "metadata": {
  "kernelspec": {
   "display_name": "Python 3",
   "language": "python",
   "name": "python3"
  },
  "language_info": {
   "codemirror_mode": {
    "name": "ipython",
    "version": 3
   },
   "file_extension": ".py",
   "mimetype": "text/x-python",
   "name": "python",
   "nbconvert_exporter": "python",
   "pygments_lexer": "ipython3",
   "version": "3.7.4"
  },
  "toc": {
   "base_numbering": 1,
   "nav_menu": {},
   "number_sections": true,
   "sideBar": true,
   "skip_h1_title": false,
   "title_cell": "Table of Contents",
   "title_sidebar": "Contents",
   "toc_cell": false,
   "toc_position": {},
   "toc_section_display": true,
   "toc_window_display": false
  }
 },
 "nbformat": 4,
 "nbformat_minor": 2
}
