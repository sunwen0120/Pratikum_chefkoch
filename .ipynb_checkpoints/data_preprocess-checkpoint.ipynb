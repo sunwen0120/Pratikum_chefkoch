{
 "cells": [
  {
   "cell_type": "code",
   "execution_count": 1,
   "metadata": {},
   "outputs": [],
   "source": [
    "import numpy as np\n",
    "import pandas as pd"
   ]
  },
  {
   "cell_type": "code",
   "execution_count": 31,
   "metadata": {},
   "outputs": [],
   "source": [
    "df_1 = pd.read_csv(\"/Users/xujingjing/Desktop/chefkoch_2/dataset/Beilage.csv\", sep=';', encoding=\"utf-8\")\n",
    "df_2 = pd.read_csv(\"/Users/xujingjing/Desktop/chefkoch_2/dataset/Dessert.csv\", sep=';', encoding=\"utf-8\")\n",
    "df_3 = pd.read_csv(\"/Users/xujingjing/Desktop/chefkoch_2/dataset/Fruehstueck.csv\", sep=';', encoding=\"utf-8\")\n",
    "#df_4 = pd.read_csv(\"/Users/xujingjing/Desktop/chefkoch_2/dataset/Getranke.csv\", sep=';', encoding=\"utf-8\")\n",
    "df_5 = pd.read_csv(\"/Users/xujingjing/Desktop/chefkoch_2/dataset/Hauptspeise.csv\", sep=';', encoding=\"utf-8\")\n",
    "df_6 = pd.read_csv(\"/Users/xujingjing/Desktop/chefkoch_2/dataset/Regional.csv\", sep=';', encoding=\"utf-8\")\n",
    "df_7 = pd.read_csv(\"/Users/xujingjing/Desktop/chefkoch_2/dataset/Salat.csv\", sep=';', encoding=\"utf-8\")\n",
    "df_8 = pd.read_csv(\"/Users/xujingjing/Desktop/chefkoch_2/dataset/Suppen.csv\", sep=';', encoding=\"utf-8\")\n",
    "df_9 = pd.read_csv(\"/Users/xujingjing/Desktop/chefkoch_2/dataset/Vorspeisen.csv\", sep=';', encoding=\"utf-8\")\n",
    "df_10 = pd.read_csv(\"/Users/xujingjing/Desktop/chefkoch_2/dataset/Zubereitungsarten.csv\", sep=';', encoding=\"utf-8\")"
   ]
  },
  {
   "cell_type": "code",
   "execution_count": 32,
   "metadata": {},
   "outputs": [],
   "source": [
    "pdList = [df_1, df_2, df_3, df_5, df_6, df_7, df_8, df_9, df_10]  # List of your dataframes\n",
    "new_df = pd.concat(pdList)"
   ]
  },
  {
   "cell_type": "code",
   "execution_count": 33,
   "metadata": {},
   "outputs": [],
   "source": [
    "# sorting by recipe name \n",
    "new_df.sort_values(\"recipe_name\", inplace = True) \n",
    "  \n",
    "# dropping ALL duplicte values \n",
    "new_df.drop_duplicates(subset =\"recipe_name\", \n",
    "                     keep = False, inplace = True)"
   ]
  },
  {
   "cell_type": "code",
   "execution_count": 38,
   "metadata": {},
   "outputs": [],
   "source": [
    "new_df.reset_index(inplace = True)\n",
    "columns = ['categorize', 'recipe_name', 'tags', 'avg_score', 'difficulty',\n",
    "       'ingredient', 'rating_count', 'calorie', 'preparation_time',\n",
    "       'comment_user', 'recipe_url']\n"
   ]
  },
  {
   "cell_type": "code",
   "execution_count": 40,
   "metadata": {},
   "outputs": [],
   "source": [
    "new_df[columns].to_csv(\"/Users/xujingjing/Desktop/chefkoch_2/dataset/all_data.csv\", header = True, index = False)"
   ]
  }
 ],
 "metadata": {
  "kernelspec": {
   "display_name": "Python 3",
   "language": "python",
   "name": "python3"
  },
  "language_info": {
   "codemirror_mode": {
    "name": "ipython",
    "version": 3
   },
   "file_extension": ".py",
   "mimetype": "text/x-python",
   "name": "python",
   "nbconvert_exporter": "python",
   "pygments_lexer": "ipython3",
   "version": "3.6.10"
  }
 },
 "nbformat": 4,
 "nbformat_minor": 4
}
