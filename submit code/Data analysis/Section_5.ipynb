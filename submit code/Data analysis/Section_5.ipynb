{
 "cells": [
  {
   "cell_type": "code",
   "execution_count": 73,
   "metadata": {},
   "outputs": [],
   "source": [
    "import numpy as np\n",
    "import pandas as pd"
   ]
  },
  {
   "cell_type": "code",
   "execution_count": 74,
   "metadata": {},
   "outputs": [],
   "source": [
    "df_1 = pd.read_csv(\"/Users/xujingjing/Desktop/chefkoch_2/dataset/Beilage.csv\", sep=';', encoding=\"utf-8\")\n",
    "df_2 = pd.read_csv(\"/Users/xujingjing/Desktop/chefkoch_2/dataset/Dessert.csv\", sep=';', encoding=\"utf-8\")\n",
    "df_3 = pd.read_csv(\"/Users/xujingjing/Desktop/chefkoch_2/dataset/Fruehstueck.csv\", sep=';', encoding=\"utf-8\")\n",
    "df_4 = pd.read_csv(\"/Users/xujingjing/Desktop/chefkoch_2/dataset/Getranke.csv\", sep=';', encoding=\"utf-8\")\n",
    "df_5 = pd.read_csv(\"/Users/xujingjing/Desktop/chefkoch_2/dataset/Hauptspeise.csv\", sep=';', encoding=\"utf-8\")\n",
    "df_6 = pd.read_csv(\"/Users/xujingjing/Desktop/chefkoch_2/dataset/Regional.csv\", sep=';', encoding=\"utf-8\")\n",
    "df_7 = pd.read_csv(\"/Users/xujingjing/Desktop/chefkoch_2/dataset/Salat.csv\", sep=';', encoding=\"utf-8\")\n",
    "df_8 = pd.read_csv(\"/Users/xujingjing/Desktop/chefkoch_2/dataset/Suppen.csv\", sep=';', encoding=\"utf-8\")\n",
    "df_9 = pd.read_csv(\"/Users/xujingjing/Desktop/chefkoch_2/dataset/Vorspeisen.csv\", sep=';', encoding=\"utf-8\")\n",
    "df_10 = pd.read_csv(\"/Users/xujingjing/Desktop/chefkoch_2/dataset/Zubereitungsarten.csv\", sep=';', encoding=\"utf-8\")"
   ]
  },
  {
   "cell_type": "code",
   "execution_count": 75,
   "metadata": {},
   "outputs": [],
   "source": [
    "pdList = [df_1, df_2, df_3, df_5, df_6, df_7, df_8, df_9,df_10]  # List of your dataframes\n",
    "new_df = pd.concat(pdList)"
   ]
  },
  {
   "cell_type": "code",
   "execution_count": 76,
   "metadata": {},
   "outputs": [],
   "source": [
    "# sorting by recipe name \n",
    "new_df.sort_values(\"recipe_name\", inplace = True) \n",
    "  \n",
    "# dropping ALL duplicte values \n",
    "new_df.drop_duplicates(subset =\"recipe_name\", \n",
    "                     keep = False, inplace = True)"
   ]
  },
  {
   "cell_type": "code",
   "execution_count": 77,
   "metadata": {},
   "outputs": [],
   "source": [
    "new_df.reset_index(inplace = True)\n",
    "columns = ['categorize', 'recipe_name', 'tags', 'avg_score', 'difficulty',\n",
    "       'ingredient', 'rating_count', 'calorie', 'preparation_time',\n",
    "       'comment_user', 'recipe_url']"
   ]
  },
  {
   "cell_type": "code",
   "execution_count": 78,
   "metadata": {},
   "outputs": [],
   "source": [
    "new_df[columns].to_csv(\"/Users/xujingjing/Desktop/chefkoch_2/dataset/all_data.csv\", header = True, index = False)"
   ]
  },
  {
   "cell_type": "markdown",
   "metadata": {},
   "source": [
    "### Ingredients Word2vec"
   ]
  },
  {
   "cell_type": "code",
   "execution_count": 79,
   "metadata": {},
   "outputs": [],
   "source": [
    "import re\n",
    "import copy\n",
    "def ingredients_preprocess(dataframe):\n",
    "    \"\"\"\n",
    "    input: dataframe\n",
    "    output: list of distinct ingredient list\n",
    "    function: preprocess the ingredient columns and return a list of distinct ingredients\n",
    "    \"\"\"\n",
    "    distinct_ingredients = []\n",
    "    list_ingredient = []\n",
    "    for i in range(len(dataframe)):\n",
    "        ingredients = dataframe.iloc[i]['ingredient']\n",
    "        \n",
    "        r = re.compile('[A-Z]{1}[a-zA-Z]+')\n",
    "        ingredients = str(ingredients)\n",
    "        #ingredients = ''.join(i for i in ingredients if not i.isdigit())\n",
    "        ingredients = ingredients.replace(\"'\",\"\")\n",
    "        ingredients = ingredients.replace(\" \",\"\")\n",
    "        ingredients = ingredients.replace(\"[\",\"\")\n",
    "        ingredients = ingredients.replace(\"]\",\"\")\n",
    "        # remove text inside parentheses\n",
    "        ingredients = re.sub(r'\\([^())]*\\)',\"\", ingredients)\n",
    "        ingredients = ingredients.split(\",\")\n",
    "        ingredients = list(filter(r.match, ingredients))\n",
    "        ingredients = [x.lower() for x in ingredients]\n",
    "        distinct_ingredients += ingredients\n",
    "        #dataframe.iloc[i]['ingredient'] = ingredients\n",
    "        list_ingredient.append(ingredients)\n",
    "    return [list(set(distinct_ingredients)),list_ingredient]"
   ]
  },
  {
   "cell_type": "code",
   "execution_count": 80,
   "metadata": {},
   "outputs": [],
   "source": [
    "\n",
    "distinct_ingredients, list_ingredient = ingredients_preprocess(new_df)"
   ]
  },
  {
   "cell_type": "code",
   "execution_count": 81,
   "metadata": {},
   "outputs": [],
   "source": [
    "import gensim\n",
    "from gensim.models import Word2Vec\n",
    "\n",
    "# Set values for NN parameters\n",
    "num_features = 50    # Word vector dimensionality                      \n",
    "min_word_count = 0                     \n",
    "num_workers = 4       # Number of CPUs\n",
    "context = 10          # Context window size; \n",
    "                      # let's use avg recipte size                                                                                  \n",
    "downsampling = 1e-3   # threshold for configuring which \n",
    "                    # higher-frequency words are randomly downsampled\n",
    "\n",
    "# Initialize and train the model \n",
    "model = Word2Vec(list_ingredient, workers=num_workers, \\\n",
    "            size=num_features, min_count = min_word_count, \\\n",
    "            window = context, sample = downsampling)\n",
    "\n",
    "# If you don't plan to train the model any further, calling \n",
    "# init_sims will make the model much more memory-efficient.\n",
    "model.init_sims(replace=True)"
   ]
  },
  {
   "cell_type": "code",
   "execution_count": 82,
   "metadata": {},
   "outputs": [],
   "source": [
    "# count ingredient\n",
    "import collections\n",
    "dict_freq = collections.defaultdict(int)\n",
    "for i in range(len(list_ingredient)):\n",
    "    for j in range(len(list_ingredient[i])):\n",
    "        dict_freq[list_ingredient[i][j]] += 1\n",
    "\n",
    "# sorted frequency dictionary \n",
    "dict_freq = {k: v for k, v in sorted(dict_freq.items(), key=lambda item: -item[1])}"
   ]
  },
  {
   "cell_type": "code",
   "execution_count": 83,
   "metadata": {},
   "outputs": [],
   "source": [
    "ingredient_chosen = [k for k, v in dict_freq.items() if v>300]"
   ]
  },
  {
   "cell_type": "code",
   "execution_count": 84,
   "metadata": {},
   "outputs": [
    {
     "name": "stderr",
     "output_type": "stream",
     "text": [
      "/Users/xujingjing/anaconda3/lib/python3.6/site-packages/ipykernel_launcher.py:5: DeprecationWarning:\n",
      "\n",
      "Call to deprecated `__getitem__` (Method will be removed in 4.0.0, use self.wv.__getitem__() instead).\n",
      "\n"
     ]
    }
   ],
   "source": [
    "from sklearn.decomposition import PCA\n",
    "import matplotlib.pyplot as plt\n",
    "from sklearn.manifold import TSNE\n",
    "words = ingredient_chosen\n",
    "vectors = [model[word] for word in words]\n",
    "\n",
    "#from matplotlib.pyplot import figure\n",
    "#figure(num=None, figsize=(25, 25), dpi=80, facecolor='w', edgecolor='k')\n",
    "\n",
    "tsne = TSNE(n_components=2, random_state=0)\n",
    "Y = tsne.fit_transform(vectors)"
   ]
  },
  {
   "cell_type": "code",
   "execution_count": 85,
   "metadata": {},
   "outputs": [],
   "source": [
    "from sklearn.cluster import SpectralClustering\n",
    "import numpy as np\n",
    "clustering = SpectralClustering(n_clusters=30, assign_labels=\"discretize\", random_state=0).fit(Y)"
   ]
  },
  {
   "cell_type": "code",
   "execution_count": 86,
   "metadata": {},
   "outputs": [],
   "source": [
    "df_plot = pd.DataFrame(data = Y,columns = ['x','y'])\n",
    "df_plot['size'] = [dict_freq[ingre] for ingre in ingredient_chosen]\n",
    "df_plot['cluster'] = clustering.labels_\n",
    "df_plot['name'] = ingredient_chosen"
   ]
  },
  {
   "cell_type": "code",
   "execution_count": 90,
   "metadata": {},
   "outputs": [
    {
     "data": {
      "application/vnd.plotly.v1+json": {
       "config": {
        "plotlyServerURL": "https://plot.ly"
       },
       "data": [
        {
         "hovertemplate": "x=%{x}<br>y=%{y}<br>size=%{marker.size}<br>name=%{text}<br>cluster=%{marker.color}<extra></extra>",
         "legendgroup": "",
         "marker": {
          "color": [
           23,
           16,
           26,
           19,
           18,
           18,
           18,
           15,
           10,
           4,
           18,
           11,
           10,
           14,
           14,
           17,
           10,
           17,
           17,
           7,
           0,
           7,
           29,
           23,
           1,
           28,
           18,
           23,
           9,
           0,
           29,
           0,
           17,
           28,
           10,
           11,
           10,
           10,
           25,
           11,
           10,
           25,
           24,
           5,
           29,
           25,
           14,
           21,
           6,
           3,
           0,
           10,
           25,
           24,
           0,
           29,
           17,
           17,
           10,
           6,
           20,
           0,
           10,
           10,
           29,
           29,
           29,
           11,
           17,
           11,
           21,
           5,
           29,
           25,
           29,
           29,
           29,
           29,
           25,
           17,
           23,
           10,
           18,
           21,
           21,
           25,
           6,
           29,
           28,
           28,
           8,
           29,
           10,
           17,
           26,
           10,
           29,
           10,
           21,
           9,
           22,
           5,
           24,
           6,
           23,
           29,
           29,
           9,
           27,
           25,
           29,
           29,
           0,
           28,
           23,
           21,
           17,
           18,
           25,
           27,
           4,
           10,
           25,
           10,
           18,
           29,
           29,
           29,
           10,
           13,
           10,
           5,
           29,
           22,
           23,
           27,
           17,
           29,
           25,
           0,
           10,
           10,
           29,
           12,
           25,
           29,
           22,
           20,
           17,
           10,
           21,
           28,
           25,
           28,
           4,
           10,
           22,
           6,
           13,
           23,
           29,
           29,
           17,
           25,
           27,
           21,
           17,
           0,
           0,
           21,
           17,
           0,
           2,
           5,
           4,
           17,
           29,
           29,
           29,
           23,
           17,
           10,
           29,
           25,
           28,
           0,
           21,
           28,
           29,
           29,
           13,
           10,
           17,
           0,
           21,
           23,
           28,
           19,
           1,
           17,
           26,
           11,
           10,
           5,
           28,
           25,
           29,
           17,
           18,
           16,
           5,
           25,
           29,
           25,
           28,
           28,
           23,
           29,
           29,
           23,
           29,
           23,
           29,
           5,
           28,
           10,
           25,
           29,
           2,
           29,
           25,
           25,
           23,
           28,
           10,
           29,
           23,
           22,
           8,
           28,
           28,
           17,
           0,
           12,
           29,
           5,
           17,
           0,
           28,
           25,
           17,
           29,
           5,
           29,
           9,
           29,
           10,
           25,
           9,
           28,
           25,
           29,
           10,
           25,
           6,
           10,
           29,
           25,
           29,
           17,
           29,
           29,
           22,
           29,
           24,
           28,
           29,
           5,
           10,
           10,
           28,
           28,
           17,
           28,
           10,
           17,
           18,
           25,
           29,
           0,
           29,
           21,
           28,
           10,
           28,
           23,
           25,
           0,
           21,
           0,
           15,
           25,
           29,
           29,
           17,
           0,
           3,
           28,
           23,
           25,
           21,
           10,
           23,
           5,
           10,
           21,
           0,
           25,
           29,
           23,
           0,
           0,
           23,
           11,
           0,
           28,
           29,
           10,
           0,
           29,
           23,
           0,
           23,
           25,
           25,
           29,
           17,
           10,
           10,
           21,
           29,
           2,
           5,
           0,
           29,
           17
          ],
          "coloraxis": "coloraxis",
          "opacity": 0.3,
          "size": [
           30460,
           29302,
           29195,
           27532,
           22628,
           21895,
           18026,
           15436,
           15055,
           14193,
           13036,
           11687,
           11439,
           10345,
           10294,
           9995,
           9461,
           9343,
           8070,
           7581,
           7369,
           7286,
           6440,
           6108,
           5228,
           5014,
           4925,
           4894,
           4803,
           4674,
           4645,
           4269,
           4242,
           4118,
           4044,
           4042,
           3972,
           3969,
           3850,
           3447,
           3400,
           3374,
           3356,
           3337,
           3337,
           3324,
           3262,
           3224,
           3121,
           3073,
           3065,
           3046,
           3045,
           2959,
           2923,
           2895,
           2887,
           2732,
           2665,
           2647,
           2643,
           2576,
           2542,
           2541,
           2492,
           2460,
           2295,
           2293,
           2275,
           2210,
           2193,
           2192,
           2156,
           2143,
           2138,
           2100,
           2012,
           2012,
           1986,
           1956,
           1956,
           1927,
           1918,
           1887,
           1872,
           1867,
           1825,
           1799,
           1786,
           1784,
           1774,
           1760,
           1731,
           1713,
           1657,
           1645,
           1639,
           1626,
           1624,
           1612,
           1611,
           1586,
           1584,
           1580,
           1572,
           1561,
           1554,
           1505,
           1490,
           1455,
           1452,
           1445,
           1440,
           1434,
           1419,
           1418,
           1407,
           1372,
           1358,
           1313,
           1283,
           1276,
           1267,
           1239,
           1178,
           1172,
           1149,
           1149,
           1145,
           1132,
           1131,
           1118,
           1116,
           1111,
           1110,
           1109,
           1108,
           1099,
           1092,
           1075,
           1068,
           1064,
           1054,
           1040,
           1016,
           1007,
           991,
           989,
           982,
           981,
           978,
           958,
           931,
           929,
           928,
           926,
           924,
           918,
           908,
           899,
           883,
           881,
           879,
           872,
           865,
           863,
           829,
           827,
           821,
           819,
           809,
           805,
           799,
           796,
           794,
           792,
           786,
           785,
           782,
           762,
           761,
           760,
           754,
           753,
           751,
           746,
           744,
           739,
           738,
           729,
           724,
           713,
           705,
           704,
           703,
           701,
           697,
           697,
           689,
           686,
           683,
           680,
           679,
           678,
           673,
           672,
           672,
           670,
           666,
           666,
           658,
           657,
           654,
           653,
           652,
           650,
           641,
           639,
           636,
           630,
           629,
           627,
           627,
           621,
           621,
           620,
           610,
           606,
           603,
           601,
           600,
           594,
           593,
           582,
           577,
           576,
           570,
           569,
           565,
           565,
           564,
           564,
           558,
           556,
           554,
           549,
           542,
           540,
           527,
           519,
           517,
           515,
           511,
           507,
           505,
           504,
           502,
           500,
           493,
           492,
           490,
           486,
           484,
           477,
           475,
           474,
           473,
           472,
           467,
           467,
           463,
           460,
           457,
           456,
           452,
           451,
           449,
           447,
           445,
           444,
           440,
           434,
           433,
           433,
           429,
           425,
           424,
           422,
           420,
           415,
           414,
           412,
           410,
           408,
           405,
           401,
           400,
           396,
           396,
           390,
           388,
           383,
           383,
           381,
           378,
           378,
           378,
           378,
           376,
           376,
           375,
           375,
           374,
           373,
           370,
           370,
           369,
           362,
           356,
           354,
           352,
           350,
           350,
           350,
           347,
           339,
           333,
           332,
           331,
           329,
           327,
           326,
           325,
           324,
           323,
           322,
           318,
           316,
           313,
           310,
           307,
           307,
           307,
           306,
           306,
           302
          ],
          "sizemode": "area",
          "sizeref": 6.216326530612245,
          "symbol": "circle"
         },
         "mode": "markers+text",
         "name": "",
         "orientation": "v",
         "showlegend": false,
         "text": [
          "zucker",
          "salzundpfeffer",
          "salz",
          "zwiebel",
          "ei",
          "butter",
          "mehl",
          "pfeffer",
          "olivenöl",
          "wasser",
          "milch",
          "sahne",
          "tomate",
          "knoblauch",
          "knoblauchzehe",
          "petersilie",
          "paprikaschote",
          "kartoffel",
          "gemüsebrühe",
          "zitronensaft",
          "paprikapulver",
          "zitrone",
          "vanillezucker",
          "backpulver",
          "muskat",
          "senf",
          "eigelb",
          "honig",
          "zimt",
          "tomatenmark",
          "puderzucker",
          "champignons",
          "thymian",
          "essig",
          "basilikum",
          "schlagsahne",
          "parmesan",
          "zucchini",
          "chilischote",
          "crèmefraîche",
          "nudeln",
          "sojasauce",
          "frühlingszwiebel",
          "schnittlauch",
          "mandel",
          "karotte",
          "tk",
          "weißwein",
          "joghurt",
          "speisestärke",
          "hackfleisch",
          "kräuter",
          "ingwer",
          "schalotte",
          "rosmarin",
          "schokolade",
          "brühe",
          "speck",
          "oregano",
          "quark",
          "currypulver",
          "schinken",
          "balsamico",
          "reis",
          "banane",
          "orange",
          "gelatine",
          "frischkäse",
          "lauch",
          "schmand",
          "wein",
          "dill",
          "vanilleschote",
          "cayennepfeffer",
          "erdbeeren",
          "kakaopulver",
          "apfel",
          "eiweiß",
          "kokosmilch",
          "bohnen",
          "hefe",
          "oliven",
          "margarine",
          "lorbeerblätter",
          "butterschmalz",
          "chilipulver",
          "naturjoghurt",
          "rum",
          "salatgurke",
          "mayonnaise",
          "erbsen",
          "walnüsse",
          "mais",
          "majoran",
          "meersalz",
          "mozzarella",
          "orangensaft",
          "feta-käse",
          "rotwein",
          "rosinen",
          "semmelbrösel",
          "spargel",
          "lauchzwiebel",
          "magerquark",
          "haferflocken",
          "haselnüsse",
          "himbeeren",
          "zimtpulver",
          "limette",
          "kreuzkümmel",
          "mascarpone",
          "ananas",
          "salzwasser",
          "gewürzgurke",
          "weizenmehl",
          "lorbeerblatt",
          "fleischbrühe",
          "fett",
          "koriander",
          "minze",
          "rapsöl",
          "pinienkerne",
          "gewürzmischung",
          "spaghetti",
          "fettfürdieform",
          "puddingpulver",
          "kokosraspel",
          "birne",
          "aubergine",
          "blätterteig",
          "rucola",
          "fischfilet",
          "vanillinzucker",
          "paniermehl",
          "sesam",
          "mango",
          "brokkoli",
          "gelierzucker",
          "kurkuma",
          "kochschinken",
          "schafskäse",
          "kirschtomate",
          "kuvertüre",
          "saftdavon",
          "koriandergrün",
          "keks",
          "toastbrot",
          "curry",
          "porree",
          "peperoni",
          "pfefferkörner",
          "avocado",
          "sauce",
          "gurke",
          "pflanzenöl",
          "kapern",
          "brötchen",
          "buttermilch",
          "blattspinat",
          "rohrzucker",
          "apfelsaft",
          "pfirsich",
          "sellerie",
          "linsen",
          "limettensaft",
          "nelke",
          "weißkohl",
          "bacon",
          "pilze",
          "wacholderbeere",
          "knollensellerie",
          "saucenbinder",
          "staudensellerie",
          "garnele",
          "sonnenblumenöl",
          "blumenkohl",
          "vanille",
          "aprikose",
          "eis",
          "grieß",
          "kohlrabi",
          "cocktailtomaten",
          "sahnesteif",
          "chiliflocken",
          "thunfisch",
          "salbei",
          "gewürznelke",
          "salat",
          "zitronenschale",
          "amaretto",
          "spinat",
          "bandnudeln",
          "suppengrün",
          "schweinefilet",
          "piment",
          "sonnenblumenkerne",
          "weißweinessig",
          "gemüsezwiebel",
          "muskatnuss",
          "rindfleisch",
          "kräutersalz",
          "sauerrahm",
          "kidneybohnen",
          "lachsfilet",
          "tabasco",
          "ingwerwurzel",
          "pistazien",
          "sauerkraut",
          "butterodermargarine",
          "salzundpfefferausdermühle",
          "meerrettich",
          "currypaste",
          "weintrauben",
          "sesamöl",
          "rotebete",
          "tomatenketchup",
          "mineralwasser",
          "sirup",
          "mandelblättchen",
          "natron",
          "beeren",
          "trockenhefe",
          "kirsche",
          "lachs",
          "radieschen",
          "kräuterderprovence",
          "chili",
          "likör",
          "fenchel",
          "mandarine",
          "fischsauce",
          "sambaloelek",
          "ahornsirup",
          "ketchup",
          "cherrytomate",
          "heidelbeeren",
          "dinkelmehl",
          "brot",
          "gemüse",
          "worcestersauce",
          "eisbergsalat",
          "rinderbrühe",
          "schmelzkäse",
          "bio",
          "saft",
          "sherry",
          "wirsing",
          "gouda",
          "wurst",
          "erdnüsse",
          "schweinefleisch",
          "schokoladenraspel",
          "estragon",
          "rhabarber",
          "nelkenpulver",
          "pflaume",
          "fleischtomate",
          "ingwerpulver",
          "kardamom",
          "fleischwurst",
          "kichererbsen",
          "marmelade",
          "tomaten",
          "zitronengras",
          "kondensmilch",
          "paprika",
          "kiwi",
          "chilisauce",
          "lebkuchengewürz",
          "bier",
          "sauerkirschen",
          "kaffee",
          "weißbrot",
          "feige",
          "knoblauchpulver",
          "feldsalat",
          "aroma",
          "fisch",
          "pesto",
          "ricotta",
          "pellkartoffel",
          "maggi",
          "rosenkohl",
          "apfelessig",
          "rinderhackfleisch",
          "bohnenkraut",
          "butterfürdieform",
          "zuckerschote",
          "johannisbeeren",
          "putenschnitzel",
          "eierlikör",
          "portwein",
          "kresse",
          "baguette",
          "salami",
          "dattel",
          "couscous",
          "hackfleischvomrind",
          "senfkörner",
          "instant",
          "pfefferausdermühle",
          "korianderpulver",
          "zitronenmelisse",
          "orangenlikör",
          "kasseler",
          "pfifferlinge",
          "stärkemehl",
          "miracelwhip",
          "cranberries",
          "tofu",
          "cognac",
          "gorgonzola",
          "mandeln",
          "kerbel",
          "ziegenfrischkäse",
          "sternanis",
          "putenbrust",
          "chinakohl",
          "früchte",
          "mohn",
          "schweineschnitzel",
          "kräuterfrischkäse",
          "größem",
          "doppelrahmfrischkäse",
          "steinpilze",
          "chicorée",
          "marzipanrohmasse",
          "penne",
          "emmentaler",
          "tee",
          "leinsamen",
          "gehacktes",
          "mehlfürdiearbeitsfläche",
          "hokkaidokürbis",
          "cashewnüsse",
          "kaffeepulver",
          "schinkenspeck",
          "spitzpaprika",
          "acetobalsamico",
          "weinbrand",
          "sekt",
          "safran",
          "fischfond",
          "gewürz",
          "vollmilch",
          "kartoffeln"
         ],
         "textfont": {
          "size": 7
         },
         "textposition": "middle center",
         "type": "scatter",
         "x": [
          14.456459045410156,
          -14.223668098449707,
          19.396263122558594,
          -17.145212173461914,
          -1.0023945569992065,
          -3.7243945598602295,
          2.6819021701812744,
          -11.27889347076416,
          -2.27077317237854,
          6.843503475189209,
          -0.9676198959350586,
          -7.308541297912598,
          -5.178286075592041,
          14.368048667907715,
          14.370153427124023,
          -14.801324844360352,
          -9.179983139038086,
          -15.171887397766113,
          -19.24025535583496,
          18.053133010864258,
          -12.36009407043457,
          17.99599838256836,
          10.629982948303223,
          6.6430816650390625,
          -6.583279132843018,
          -0.8941249847412109,
          0.5031075477600098,
          13.53520393371582,
          14.862387657165527,
          -13.128804206848145,
          9.568747520446777,
          -9.063085556030273,
          -17.508501052856445,
          7.698268413543701,
          -3.735290288925171,
          -7.298697471618652,
          -0.9301857948303223,
          -7.071917533874512,
          7.962155342102051,
          -5.6189165115356445,
          -1.8107945919036865,
          13.42650032043457,
          7.616023540496826,
          6.005137920379639,
          9.625273704528809,
          1.3160127401351929,
          12.162203788757324,
          -15.048337936401367,
          -3.480240821838379,
          1.886231541633606,
          -12.710532188415527,
          -5.737787246704102,
          9.915040016174316,
          5.719549655914307,
          -4.0092082023620605,
          12.450178146362305,
          -18.611064910888672,
          -13.52460765838623,
          -6.662376403808594,
          -1.9856685400009155,
          3.665013074874878,
          -7.2382402420043945,
          2.992079019546509,
          -1.0605138540267944,
          10.120394706726074,
          2.081683397293091,
          5.780035018920898,
          -4.756676197052002,
          -10.136935234069824,
          -4.658420085906982,
          -14.669589042663574,
          6.880764007568359,
          8.461479187011719,
          4.877015113830566,
          9.7654447555542,
          13.233498573303223,
          0.9388955235481262,
          6.544225215911865,
          11.053728103637695,
          -16.605342864990234,
          5.184899806976318,
          -2.9469902515411377,
          -2.0117926597595215,
          -13.087464332580566,
          -6.95806360244751,
          5.683772563934326,
          -3.544144630432129,
          8.935331344604492,
          1.7639967203140259,
          -0.6050723791122437,
          -13.327402114868164,
          3.803640604019165,
          -10.747747421264648,
          -14.377299308776855,
          18.994474411010742,
          -2.5551846027374268,
          2.5315096378326416,
          -4.340782165527344,
          -13.905878067016602,
          13.012154579162598,
          -3.646528482437134,
          5.389765739440918,
          7.64261531829834,
          -1.9656132459640503,
          9.383757591247559,
          9.881166458129883,
          10.830301284790039,
          14.774354934692383,
          15.817837715148926,
          6.320865631103516,
          4.760387420654297,
          7.340543746948242,
          -5.676338195800781,
          -3.047787666320801,
          5.4669294357299805,
          -13.252092361450195,
          -17.351137161254883,
          -1.9856661558151245,
          7.161890506744385,
          14.51387882232666,
          9.844894409179688,
          0.8834720849990845,
          6.498929500579834,
          -2.329737901687622,
          0.3820129632949829,
          15.163923263549805,
          14.096567153930664,
          3.5573644638061523,
          -6.667864799499512,
          -2.6074976921081543,
          0.29657313227653503,
          7.599707126617432,
          10.996827125549316,
          -3.3500216007232666,
          10.174542427062988,
          14.145431518554688,
          -6.413596153259277,
          5.411224365234375,
          5.974987506866455,
          -7.759288787841797,
          -4.401220798492432,
          -1.1164653301239014,
          12.087990760803223,
          -0.7511865496635437,
          8.662657737731934,
          12.71536922454834,
          -2.582545042037964,
          3.6674633026123047,
          -10.49112319946289,
          -7.874561786651611,
          -11.212282180786133,
          1.3692197799682617,
          13.101594924926758,
          1.1379727125167847,
          9.380475997924805,
          -0.06931152939796448,
          -2.6596062183380127,
          -1.3771677017211914,
          -3.682478427886963,
          13.289859771728516,
          3.770502805709839,
          7.544614315032959,
          -11.737553596496582,
          3.55087947845459,
          15.306539535522461,
          -11.317245483398438,
          -13.09910774230957,
          -8.214912414550781,
          -9.353504180908203,
          -12.772732734680176,
          -11.455577850341797,
          -11.503747940063477,
          0.4319917857646942,
          7.668001174926758,
          9.7736177444458,
          -7.513206958770752,
          13.374944686889648,
          5.150711536407471,
          9.102056503295898,
          3.0191614627838135,
          -8.299372673034668,
          -1.6862813234329224,
          13.919212341308594,
          5.881533145904541,
          -0.4903642535209656,
          -4.964903831481934,
          -10.854377746582031,
          1.5672370195388794,
          7.733303546905518,
          12.154439926147461,
          -3.6904098987579346,
          -2.992902994155884,
          -13.40776252746582,
          -8.028125762939453,
          -11.454288482666016,
          9.817851066589355,
          7.0855536460876465,
          -17.05352020263672,
          -6.835987567901611,
          -14.165752410888672,
          18.349533081054688,
          -4.12746000289917,
          -10.707228660583496,
          6.675077438354492,
          -3.324625253677368,
          9.883294105529785,
          7.358205795288086,
          -13.434815406799316,
          -2.449376106262207,
          -14.224538803100586,
          5.899733543395996,
          10.317453384399414,
          2.9088876247406006,
          12.496773719787598,
          5.000260829925537,
          -3.643465280532837,
          8.068583488464355,
          7.994260787963867,
          9.029990196228027,
          7.710163116455078,
          11.57720947265625,
          5.388581275939941,
          11.162108421325684,
          5.938420295715332,
          2.9492011070251465,
          -5.88106632232666,
          6.645785331726074,
          9.867997169494629,
          0.6975286602973938,
          7.495431900024414,
          10.945637702941895,
          11.640403747558594,
          12.826872825622559,
          -4.084255218505859,
          -2.099078416824341,
          11.264030456542969,
          6.3632707595825195,
          -3.095154285430908,
          -12.971439361572266,
          -2.370842456817627,
          0.6993095874786377,
          -16.50065040588379,
          -10.39008617401123,
          -0.5701762437820435,
          5.230592727661133,
          10.018146514892578,
          -10.576420783996582,
          -9.063193321228027,
          -4.945129871368408,
          12.69000244140625,
          -14.557311058044434,
          12.778164863586426,
          7.492276191711426,
          9.48816967010498,
          14.417283058166504,
          6.0334978103637695,
          -4.749546051025391,
          7.657722473144531,
          14.764647483825684,
          -3.9630439281463623,
          5.003750324249268,
          10.77413558959961,
          -9.041094779968262,
          10.082539558410645,
          0.5512364506721497,
          -9.738245010375977,
          7.98966121673584,
          12.420061111450195,
          11.900161743164062,
          -15.080134391784668,
          11.569096565246582,
          13.699384689331055,
          -3.5923895835876465,
          4.135434150695801,
          3.050183057785034,
          2.746683359146118,
          11.541656494140625,
          8.350933074951172,
          -1.9512380361557007,
          1.314488172531128,
          -5.894892692565918,
          -4.839668273925781,
          -9.70388412475586,
          6.441625118255615,
          -10.385787963867188,
          -15.754307746887207,
          1.0940955877304077,
          9.876409530639648,
          9.836289405822754,
          -6.153419494628906,
          13.497990608215332,
          -12.234368324279785,
          4.285820960998535,
          0.1900506317615509,
          -5.073314666748047,
          12.08996295928955,
          4.21721887588501,
          -12.394317626953125,
          -10.084769248962402,
          -12.10263729095459,
          -11.20317554473877,
          6.807653903961182,
          5.81178092956543,
          8.66048812866211,
          -12.48569393157959,
          -7.372375965118408,
          1.936877727508545,
          -1.6751049757003784,
          11.43055534362793,
          11.890359878540039,
          -12.109487533569336,
          -0.2512747347354889,
          9.572406768798828,
          6.9750823974609375,
          1.5034496784210205,
          -9.92044734954834,
          -5.586686611175537,
          10.819528579711914,
          11.571961402893066,
          8.859759330749512,
          -9.854374885559082,
          -9.137287139892578,
          7.487806797027588,
          -4.383852481842041,
          -6.543503761291504,
          3.373673915863037,
          10.478840827941895,
          -2.587679862976074,
          -9.41195011138916,
          6.775506019592285,
          9.760725021362305,
          -11.948307037353516,
          4.105373382568359,
          3.1077380180358887,
          12.366202354431152,
          13.462281227111816,
          -12.783495903015137,
          -8.430394172668457,
          2.408830404281616,
          -11.938841819763184,
          6.54094123840332,
          2.1099789142608643,
          8.047883987426758,
          -9.933775901794434,
          14.3631591796875,
          -9.483777046203613
         ],
         "xaxis": "x",
         "y": [
          9.209953308105469,
          -24.911008834838867,
          -9.93997859954834,
          -12.607421875,
          13.883502960205078,
          9.116007804870605,
          10.968127250671387,
          -26.711828231811523,
          -20.021621704101562,
          1.496261715888977,
          11.887361526489258,
          12.75719928741455,
          -17.98865509033203,
          -14.937296867370605,
          -14.935718536376953,
          -8.736908912658691,
          -20.116281509399414,
          -6.805544853210449,
          -2.050276756286621,
          1.0968852043151855,
          -17.000558853149414,
          1.4828228950500488,
          22.739219665527344,
          15.813405990600586,
          -0.13581667840480804,
          -28.65728759765625,
          13.697049140930176,
          9.749985694885254,
          16.075782775878906,
          -18.477764129638672,
          21.07989501953125,
          -9.353743553161621,
          -9.14727783203125,
          -24.330734252929688,
          -16.395925521850586,
          12.836174964904785,
          -14.024775505065918,
          -18.26167106628418,
          -5.090321063995361,
          13.036935806274414,
          -10.884835243225098,
          -6.268885135650635,
          -10.36713695526123,
          -21.087963104248047,
          17.674768447875977,
          -3.5357630252838135,
          -18.91261863708496,
          6.894996166229248,
          18.823755264282227,
          8.141130447387695,
          -14.965507507324219,
          -15.148897171020508,
          -1.8947449922561646,
          -11.621545791625977,
          -7.706489562988281,
          21.969120025634766,
          -2.002734661102295,
          -5.332396030426025,
          -16.641010284423828,
          16.812633514404297,
          0.37817084789276123,
          -13.009782791137695,
          -18.910507202148438,
          -10.062050819396973,
          32.064849853515625,
          23.92931365966797,
          29.33612823486328,
          15.135887145996094,
          -6.009048938751221,
          13.804890632629395,
          6.7602314949035645,
          -20.238174438476562,
          23.817724227905273,
          -7.481372356414795,
          29.004850387573242,
          20.334596633911133,
          27.058799743652344,
          18.84200668334961,
          -3.1862869262695312,
          -4.675781726837158,
          14.920910835266113,
          -19.112890243530273,
          9.296405792236328,
          1.5766276121139526,
          7.0401153564453125,
          -6.2578301429748535,
          18.84267807006836,
          22.50731086730957,
          -24.796724319458008,
          -25.735597610473633,
          -11.374231338500977,
          20.02402114868164,
          -20.810832977294922,
          -4.700192451477051,
          -10.119322776794434,
          -15.509799003601074,
          24.69886016845703,
          -19.985429763793945,
          4.660142421722412,
          15.159381866455078,
          3.650222063064575,
          -15.522994041442871,
          -10.365887641906738,
          17.07257843017578,
          11.595837593078613,
          17.04086685180664,
          29.177692413330078,
          15.723040580749512,
          -0.2934059798717499,
          -3.287123680114746,
          30.428232192993164,
          33.11343002319336,
          -12.055168151855469,
          -25.38400650024414,
          12.246978759765625,
          1.4200752973556519,
          -1.8836133480072021,
          9.96852970123291,
          -2.834383964538574,
          0.966059684753418,
          2.8670132160186768,
          -15.711008071899414,
          -6.984785079956055,
          -11.646775245666504,
          11.989991188049316,
          24.744224548339844,
          29.02647590637207,
          22.79962158203125,
          -19.173429489135742,
          -2.2108099460601807,
          -18.396669387817383,
          -15.538726806640625,
          22.394378662109375,
          3.8939168453216553,
          6.5643792152404785,
          -1.0687000751495361,
          -4.669297218322754,
          24.923233032226562,
          -2.358336925506592,
          -13.207358360290527,
          -19.672931671142578,
          -17.376842498779297,
          21.07745933532715,
          23.76833152770996,
          -4.096431255340576,
          25.75882911682129,
          0.39897480607032776,
          0.4042498767375946,
          -6.279564380645752,
          -20.166568756103516,
          1.9286434650421143,
          -22.19972801208496,
          -8.973569869995117,
          -25.02280044555664,
          1.7238118648529053,
          -20.2268123626709,
          3.2951762676239014,
          18.544769287109375,
          -4.350205421447754,
          11.148356437683105,
          25.363975524902344,
          31.098840713500977,
          -1.4156287908554077,
          -3.328429937362671,
          -0.5671064257621765,
          4.478895664215088,
          -2.5694046020507812,
          -10.88985824584961,
          -8.198755264282227,
          3.1174004077911377,
          -0.9791566133499146,
          -8.082636833190918,
          -7.003898620605469,
          -13.2477388381958,
          2.7680251598358154,
          -4.015183925628662,
          27.1893310546875,
          21.83420753479004,
          26.797481536865234,
          13.034444808959961,
          -3.895488739013672,
          -17.712026596069336,
          25.617015838623047,
          -5.050652503967285,
          -23.439367294311523,
          -7.52345085144043,
          4.564784526824951,
          -23.567920684814453,
          18.105884552001953,
          23.66425132751465,
          -4.323785781860352,
          -11.214597702026367,
          -0.9650403261184692,
          -8.991376876831055,
          3.4221062660217285,
          9.725972175598145,
          -24.18546485900879,
          -12.506135940551758,
          -0.7264479398727417,
          -1.5808444023132324,
          -10.405747413635254,
          13.280259132385254,
          -19.70876121520996,
          -15.151037216186523,
          -28.796194076538086,
          -2.3755953311920166,
          20.9958553314209,
          -3.7103307247161865,
          9.69444465637207,
          -24.907312393188477,
          -20.23433494567871,
          -5.863317966461182,
          28.136417388916016,
          -5.181632041931152,
          -24.506118774414062,
          -28.147663116455078,
          10.698183059692383,
          27.013349533081055,
          19.30979347229004,
          15.114391326904297,
          29.356592178344727,
          14.676202774047852,
          24.124841690063477,
          -18.363569259643555,
          -23.79462432861328,
          -15.964859008789062,
          -5.276653289794922,
          25.965845108032227,
          -7.287692546844482,
          32.63923263549805,
          -4.917600154876709,
          -6.981851577758789,
          10.632749557495117,
          -27.77730369567871,
          -17.445009231567383,
          28.106786727905273,
          12.522027015686035,
          0.9984282851219177,
          -11.46668815612793,
          -28.836322784423828,
          -23.963111877441406,
          -1.9552780389785767,
          -11.659224510192871,
          23.361783981323242,
          26.266504287719727,
          -12.983075141906738,
          -4.711206912994385,
          -13.699501037597656,
          -24.54697608947754,
          -3.8860082626342773,
          -1.9939380884170532,
          24.644041061401367,
          -17.344348907470703,
          24.661752700805664,
          14.045454978942871,
          23.11617660522461,
          -18.076114654541016,
          -0.7152212858200073,
          14.10897159576416,
          -25.384899139404297,
          -3.7245445251464844,
          20.677717208862305,
          -17.69611167907715,
          -4.675188064575195,
          17.181072235107422,
          -18.988935470581055,
          29.579256057739258,
          -7.683509826660156,
          18.582441329956055,
          0.10192514210939407,
          25.13913917541504,
          23.358333587646484,
          1.6072272062301636,
          21.833873748779297,
          -10.582545280456543,
          -21.83348846435547,
          19.633440017700195,
          -16.638612747192383,
          -16.23733139038086,
          -14.414984703063965,
          -24.659635543823242,
          -25.908546447753906,
          -4.410687446594238,
          -24.675268173217773,
          -18.097219467163086,
          -4.088498592376709,
          12.373315811157227,
          -7.6774983406066895,
          27.458866119384766,
          -11.158927917480469,
          24.64116096496582,
          6.525097846984863,
          -22.049959182739258,
          -17.090158462524414,
          -22.374752044677734,
          12.700542449951172,
          -4.830982208251953,
          -15.523673057556152,
          2.327989339828491,
          -8.991559028625488,
          -26.691856384277344,
          -1.7599109411239624,
          27.815380096435547,
          25.696182250976562,
          -4.339468002319336,
          -7.397831439971924,
          8.301573753356934,
          -25.542051315307617,
          13.055278778076172,
          -5.936293601989746,
          7.613546848297119,
          -13.43908405303955,
          14.116960525512695,
          -17.98634910583496,
          -16.554975509643555,
          5.412955284118652,
          -10.471034049987793,
          -7.822848320007324,
          27.078292846679688,
          15.322154998779297,
          -10.781092643737793,
          -12.61801528930664,
          13.606176376342773,
          15.664731979370117,
          -7.207903861999512,
          -22.62758445739746,
          19.730981826782227,
          -13.749051094055176,
          -13.306052207946777,
          25.722108840942383,
          10.945573806762695,
          -14.197903633117676,
          13.330682754516602,
          -2.4268686771392822,
          -2.888882875442505,
          22.486555099487305,
          -5.7806901931762695,
          -19.126863479614258,
          -18.30777359008789,
          8.128460884094238,
          27.338171005249023,
          -7.368753910064697,
          -14.772761344909668,
          -15.165831565856934,
          21.736328125,
          -3.202974796295166
         ],
         "yaxis": "y"
        }
       ],
       "layout": {
        "coloraxis": {
         "colorbar": {
          "title": {
           "text": "cluster"
          }
         },
         "colorscale": [
          [
           0,
           "#0d0887"
          ],
          [
           0.1111111111111111,
           "#46039f"
          ],
          [
           0.2222222222222222,
           "#7201a8"
          ],
          [
           0.3333333333333333,
           "#9c179e"
          ],
          [
           0.4444444444444444,
           "#bd3786"
          ],
          [
           0.5555555555555556,
           "#d8576b"
          ],
          [
           0.6666666666666666,
           "#ed7953"
          ],
          [
           0.7777777777777778,
           "#fb9f3a"
          ],
          [
           0.8888888888888888,
           "#fdca26"
          ],
          [
           1,
           "#f0f921"
          ]
         ]
        },
        "height": 800,
        "legend": {
         "itemsizing": "constant",
         "tracegroupgap": 0
        },
        "margin": {
         "t": 60
        },
        "plot_bgcolor": "white",
        "template": {
         "data": {
          "bar": [
           {
            "error_x": {
             "color": "#2a3f5f"
            },
            "error_y": {
             "color": "#2a3f5f"
            },
            "marker": {
             "line": {
              "color": "#E5ECF6",
              "width": 0.5
             }
            },
            "type": "bar"
           }
          ],
          "barpolar": [
           {
            "marker": {
             "line": {
              "color": "#E5ECF6",
              "width": 0.5
             }
            },
            "type": "barpolar"
           }
          ],
          "carpet": [
           {
            "aaxis": {
             "endlinecolor": "#2a3f5f",
             "gridcolor": "white",
             "linecolor": "white",
             "minorgridcolor": "white",
             "startlinecolor": "#2a3f5f"
            },
            "baxis": {
             "endlinecolor": "#2a3f5f",
             "gridcolor": "white",
             "linecolor": "white",
             "minorgridcolor": "white",
             "startlinecolor": "#2a3f5f"
            },
            "type": "carpet"
           }
          ],
          "choropleth": [
           {
            "colorbar": {
             "outlinewidth": 0,
             "ticks": ""
            },
            "type": "choropleth"
           }
          ],
          "contour": [
           {
            "colorbar": {
             "outlinewidth": 0,
             "ticks": ""
            },
            "colorscale": [
             [
              0,
              "#0d0887"
             ],
             [
              0.1111111111111111,
              "#46039f"
             ],
             [
              0.2222222222222222,
              "#7201a8"
             ],
             [
              0.3333333333333333,
              "#9c179e"
             ],
             [
              0.4444444444444444,
              "#bd3786"
             ],
             [
              0.5555555555555556,
              "#d8576b"
             ],
             [
              0.6666666666666666,
              "#ed7953"
             ],
             [
              0.7777777777777778,
              "#fb9f3a"
             ],
             [
              0.8888888888888888,
              "#fdca26"
             ],
             [
              1,
              "#f0f921"
             ]
            ],
            "type": "contour"
           }
          ],
          "contourcarpet": [
           {
            "colorbar": {
             "outlinewidth": 0,
             "ticks": ""
            },
            "type": "contourcarpet"
           }
          ],
          "heatmap": [
           {
            "colorbar": {
             "outlinewidth": 0,
             "ticks": ""
            },
            "colorscale": [
             [
              0,
              "#0d0887"
             ],
             [
              0.1111111111111111,
              "#46039f"
             ],
             [
              0.2222222222222222,
              "#7201a8"
             ],
             [
              0.3333333333333333,
              "#9c179e"
             ],
             [
              0.4444444444444444,
              "#bd3786"
             ],
             [
              0.5555555555555556,
              "#d8576b"
             ],
             [
              0.6666666666666666,
              "#ed7953"
             ],
             [
              0.7777777777777778,
              "#fb9f3a"
             ],
             [
              0.8888888888888888,
              "#fdca26"
             ],
             [
              1,
              "#f0f921"
             ]
            ],
            "type": "heatmap"
           }
          ],
          "heatmapgl": [
           {
            "colorbar": {
             "outlinewidth": 0,
             "ticks": ""
            },
            "colorscale": [
             [
              0,
              "#0d0887"
             ],
             [
              0.1111111111111111,
              "#46039f"
             ],
             [
              0.2222222222222222,
              "#7201a8"
             ],
             [
              0.3333333333333333,
              "#9c179e"
             ],
             [
              0.4444444444444444,
              "#bd3786"
             ],
             [
              0.5555555555555556,
              "#d8576b"
             ],
             [
              0.6666666666666666,
              "#ed7953"
             ],
             [
              0.7777777777777778,
              "#fb9f3a"
             ],
             [
              0.8888888888888888,
              "#fdca26"
             ],
             [
              1,
              "#f0f921"
             ]
            ],
            "type": "heatmapgl"
           }
          ],
          "histogram": [
           {
            "marker": {
             "colorbar": {
              "outlinewidth": 0,
              "ticks": ""
             }
            },
            "type": "histogram"
           }
          ],
          "histogram2d": [
           {
            "colorbar": {
             "outlinewidth": 0,
             "ticks": ""
            },
            "colorscale": [
             [
              0,
              "#0d0887"
             ],
             [
              0.1111111111111111,
              "#46039f"
             ],
             [
              0.2222222222222222,
              "#7201a8"
             ],
             [
              0.3333333333333333,
              "#9c179e"
             ],
             [
              0.4444444444444444,
              "#bd3786"
             ],
             [
              0.5555555555555556,
              "#d8576b"
             ],
             [
              0.6666666666666666,
              "#ed7953"
             ],
             [
              0.7777777777777778,
              "#fb9f3a"
             ],
             [
              0.8888888888888888,
              "#fdca26"
             ],
             [
              1,
              "#f0f921"
             ]
            ],
            "type": "histogram2d"
           }
          ],
          "histogram2dcontour": [
           {
            "colorbar": {
             "outlinewidth": 0,
             "ticks": ""
            },
            "colorscale": [
             [
              0,
              "#0d0887"
             ],
             [
              0.1111111111111111,
              "#46039f"
             ],
             [
              0.2222222222222222,
              "#7201a8"
             ],
             [
              0.3333333333333333,
              "#9c179e"
             ],
             [
              0.4444444444444444,
              "#bd3786"
             ],
             [
              0.5555555555555556,
              "#d8576b"
             ],
             [
              0.6666666666666666,
              "#ed7953"
             ],
             [
              0.7777777777777778,
              "#fb9f3a"
             ],
             [
              0.8888888888888888,
              "#fdca26"
             ],
             [
              1,
              "#f0f921"
             ]
            ],
            "type": "histogram2dcontour"
           }
          ],
          "mesh3d": [
           {
            "colorbar": {
             "outlinewidth": 0,
             "ticks": ""
            },
            "type": "mesh3d"
           }
          ],
          "parcoords": [
           {
            "line": {
             "colorbar": {
              "outlinewidth": 0,
              "ticks": ""
             }
            },
            "type": "parcoords"
           }
          ],
          "pie": [
           {
            "automargin": true,
            "type": "pie"
           }
          ],
          "scatter": [
           {
            "marker": {
             "colorbar": {
              "outlinewidth": 0,
              "ticks": ""
             }
            },
            "type": "scatter"
           }
          ],
          "scatter3d": [
           {
            "line": {
             "colorbar": {
              "outlinewidth": 0,
              "ticks": ""
             }
            },
            "marker": {
             "colorbar": {
              "outlinewidth": 0,
              "ticks": ""
             }
            },
            "type": "scatter3d"
           }
          ],
          "scattercarpet": [
           {
            "marker": {
             "colorbar": {
              "outlinewidth": 0,
              "ticks": ""
             }
            },
            "type": "scattercarpet"
           }
          ],
          "scattergeo": [
           {
            "marker": {
             "colorbar": {
              "outlinewidth": 0,
              "ticks": ""
             }
            },
            "type": "scattergeo"
           }
          ],
          "scattergl": [
           {
            "marker": {
             "colorbar": {
              "outlinewidth": 0,
              "ticks": ""
             }
            },
            "type": "scattergl"
           }
          ],
          "scattermapbox": [
           {
            "marker": {
             "colorbar": {
              "outlinewidth": 0,
              "ticks": ""
             }
            },
            "type": "scattermapbox"
           }
          ],
          "scatterpolar": [
           {
            "marker": {
             "colorbar": {
              "outlinewidth": 0,
              "ticks": ""
             }
            },
            "type": "scatterpolar"
           }
          ],
          "scatterpolargl": [
           {
            "marker": {
             "colorbar": {
              "outlinewidth": 0,
              "ticks": ""
             }
            },
            "type": "scatterpolargl"
           }
          ],
          "scatterternary": [
           {
            "marker": {
             "colorbar": {
              "outlinewidth": 0,
              "ticks": ""
             }
            },
            "type": "scatterternary"
           }
          ],
          "surface": [
           {
            "colorbar": {
             "outlinewidth": 0,
             "ticks": ""
            },
            "colorscale": [
             [
              0,
              "#0d0887"
             ],
             [
              0.1111111111111111,
              "#46039f"
             ],
             [
              0.2222222222222222,
              "#7201a8"
             ],
             [
              0.3333333333333333,
              "#9c179e"
             ],
             [
              0.4444444444444444,
              "#bd3786"
             ],
             [
              0.5555555555555556,
              "#d8576b"
             ],
             [
              0.6666666666666666,
              "#ed7953"
             ],
             [
              0.7777777777777778,
              "#fb9f3a"
             ],
             [
              0.8888888888888888,
              "#fdca26"
             ],
             [
              1,
              "#f0f921"
             ]
            ],
            "type": "surface"
           }
          ],
          "table": [
           {
            "cells": {
             "fill": {
              "color": "#EBF0F8"
             },
             "line": {
              "color": "white"
             }
            },
            "header": {
             "fill": {
              "color": "#C8D4E3"
             },
             "line": {
              "color": "white"
             }
            },
            "type": "table"
           }
          ]
         },
         "layout": {
          "annotationdefaults": {
           "arrowcolor": "#2a3f5f",
           "arrowhead": 0,
           "arrowwidth": 1
          },
          "coloraxis": {
           "colorbar": {
            "outlinewidth": 0,
            "ticks": ""
           }
          },
          "colorscale": {
           "diverging": [
            [
             0,
             "#8e0152"
            ],
            [
             0.1,
             "#c51b7d"
            ],
            [
             0.2,
             "#de77ae"
            ],
            [
             0.3,
             "#f1b6da"
            ],
            [
             0.4,
             "#fde0ef"
            ],
            [
             0.5,
             "#f7f7f7"
            ],
            [
             0.6,
             "#e6f5d0"
            ],
            [
             0.7,
             "#b8e186"
            ],
            [
             0.8,
             "#7fbc41"
            ],
            [
             0.9,
             "#4d9221"
            ],
            [
             1,
             "#276419"
            ]
           ],
           "sequential": [
            [
             0,
             "#0d0887"
            ],
            [
             0.1111111111111111,
             "#46039f"
            ],
            [
             0.2222222222222222,
             "#7201a8"
            ],
            [
             0.3333333333333333,
             "#9c179e"
            ],
            [
             0.4444444444444444,
             "#bd3786"
            ],
            [
             0.5555555555555556,
             "#d8576b"
            ],
            [
             0.6666666666666666,
             "#ed7953"
            ],
            [
             0.7777777777777778,
             "#fb9f3a"
            ],
            [
             0.8888888888888888,
             "#fdca26"
            ],
            [
             1,
             "#f0f921"
            ]
           ],
           "sequentialminus": [
            [
             0,
             "#0d0887"
            ],
            [
             0.1111111111111111,
             "#46039f"
            ],
            [
             0.2222222222222222,
             "#7201a8"
            ],
            [
             0.3333333333333333,
             "#9c179e"
            ],
            [
             0.4444444444444444,
             "#bd3786"
            ],
            [
             0.5555555555555556,
             "#d8576b"
            ],
            [
             0.6666666666666666,
             "#ed7953"
            ],
            [
             0.7777777777777778,
             "#fb9f3a"
            ],
            [
             0.8888888888888888,
             "#fdca26"
            ],
            [
             1,
             "#f0f921"
            ]
           ]
          },
          "colorway": [
           "#636efa",
           "#EF553B",
           "#00cc96",
           "#ab63fa",
           "#FFA15A",
           "#19d3f3",
           "#FF6692",
           "#B6E880",
           "#FF97FF",
           "#FECB52"
          ],
          "font": {
           "color": "#2a3f5f"
          },
          "geo": {
           "bgcolor": "white",
           "lakecolor": "white",
           "landcolor": "#E5ECF6",
           "showlakes": true,
           "showland": true,
           "subunitcolor": "white"
          },
          "hoverlabel": {
           "align": "left"
          },
          "hovermode": "closest",
          "mapbox": {
           "style": "light"
          },
          "paper_bgcolor": "white",
          "plot_bgcolor": "#E5ECF6",
          "polar": {
           "angularaxis": {
            "gridcolor": "white",
            "linecolor": "white",
            "ticks": ""
           },
           "bgcolor": "#E5ECF6",
           "radialaxis": {
            "gridcolor": "white",
            "linecolor": "white",
            "ticks": ""
           }
          },
          "scene": {
           "xaxis": {
            "backgroundcolor": "#E5ECF6",
            "gridcolor": "white",
            "gridwidth": 2,
            "linecolor": "white",
            "showbackground": true,
            "ticks": "",
            "zerolinecolor": "white"
           },
           "yaxis": {
            "backgroundcolor": "#E5ECF6",
            "gridcolor": "white",
            "gridwidth": 2,
            "linecolor": "white",
            "showbackground": true,
            "ticks": "",
            "zerolinecolor": "white"
           },
           "zaxis": {
            "backgroundcolor": "#E5ECF6",
            "gridcolor": "white",
            "gridwidth": 2,
            "linecolor": "white",
            "showbackground": true,
            "ticks": "",
            "zerolinecolor": "white"
           }
          },
          "shapedefaults": {
           "line": {
            "color": "#2a3f5f"
           }
          },
          "ternary": {
           "aaxis": {
            "gridcolor": "white",
            "linecolor": "white",
            "ticks": ""
           },
           "baxis": {
            "gridcolor": "white",
            "linecolor": "white",
            "ticks": ""
           },
           "bgcolor": "#E5ECF6",
           "caxis": {
            "gridcolor": "white",
            "linecolor": "white",
            "ticks": ""
           }
          },
          "title": {
           "x": 0.05
          },
          "xaxis": {
           "automargin": true,
           "gridcolor": "white",
           "linecolor": "white",
           "ticks": "",
           "title": {
            "standoff": 15
           },
           "zerolinecolor": "white",
           "zerolinewidth": 2
          },
          "yaxis": {
           "automargin": true,
           "gridcolor": "white",
           "linecolor": "white",
           "ticks": "",
           "title": {
            "standoff": 15
           },
           "zerolinecolor": "white",
           "zerolinewidth": 2
          }
         }
        },
        "uniformtext": {
         "minsize": 3
        },
        "width": 1000,
        "xaxis": {
         "anchor": "y",
         "autorange": true,
         "domain": [
          0,
          1
         ],
         "range": [
          -0.8614782432214299,
          1.5686162331031883
         ],
         "title": {
          "text": "x"
         },
         "type": "log"
        },
        "yaxis": {
         "anchor": "x",
         "autorange": true,
         "domain": [
          0,
          1
         ],
         "range": [
          -34.77950094727444,
          38.08752407698021
         ],
         "title": {
          "text": "y"
         },
         "type": "linear"
        }
       }
      },
      "image/png": "[encoded data removed]",
      "text/html": [
       "<div>\n",
       "        \n",
       "        \n",
       "            <div id=\"a2be20fb-941d-4dc0-8f13-80c4b6cc33e6\" class=\"plotly-graph-div\" style=\"height:800px; width:1000px;\"></div>\n",
       "            <script type=\"text/javascript\">\n",
       "                require([\"plotly\"], function(Plotly) {\n",
       "                    window.PLOTLYENV=window.PLOTLYENV || {};\n",
       "                    \n",
       "                if (document.getElementById(\"a2be20fb-941d-4dc0-8f13-80c4b6cc33e6\")) {\n",
       "                    Plotly.newPlot(\n",
       "                        'a2be20fb-941d-4dc0-8f13-80c4b6cc33e6',\n",
       "                        [{\"hovertemplate\": \"x=%{x}<br>y=%{y}<br>size=%{marker.size}<br>name=%{text}<br>cluster=%{marker.color}<extra></extra>\", \"legendgroup\": \"\", \"marker\": {\"color\": [23, 16, 26, 19, 18, 18, 18, 15, 10, 4, 18, 11, 10, 14, 14, 17, 10, 17, 17, 7, 0, 7, 29, 23, 1, 28, 18, 23, 9, 0, 29, 0, 17, 28, 10, 11, 10, 10, 25, 11, 10, 25, 24, 5, 29, 25, 14, 21, 6, 3, 0, 10, 25, 24, 0, 29, 17, 17, 10, 6, 20, 0, 10, 10, 29, 29, 29, 11, 17, 11, 21, 5, 29, 25, 29, 29, 29, 29, 25, 17, 23, 10, 18, 21, 21, 25, 6, 29, 28, 28, 8, 29, 10, 17, 26, 10, 29, 10, 21, 9, 22, 5, 24, 6, 23, 29, 29, 9, 27, 25, 29, 29, 0, 28, 23, 21, 17, 18, 25, 27, 4, 10, 25, 10, 18, 29, 29, 29, 10, 13, 10, 5, 29, 22, 23, 27, 17, 29, 25, 0, 10, 10, 29, 12, 25, 29, 22, 20, 17, 10, 21, 28, 25, 28, 4, 10, 22, 6, 13, 23, 29, 29, 17, 25, 27, 21, 17, 0, 0, 21, 17, 0, 2, 5, 4, 17, 29, 29, 29, 23, 17, 10, 29, 25, 28, 0, 21, 28, 29, 29, 13, 10, 17, 0, 21, 23, 28, 19, 1, 17, 26, 11, 10, 5, 28, 25, 29, 17, 18, 16, 5, 25, 29, 25, 28, 28, 23, 29, 29, 23, 29, 23, 29, 5, 28, 10, 25, 29, 2, 29, 25, 25, 23, 28, 10, 29, 23, 22, 8, 28, 28, 17, 0, 12, 29, 5, 17, 0, 28, 25, 17, 29, 5, 29, 9, 29, 10, 25, 9, 28, 25, 29, 10, 25, 6, 10, 29, 25, 29, 17, 29, 29, 22, 29, 24, 28, 29, 5, 10, 10, 28, 28, 17, 28, 10, 17, 18, 25, 29, 0, 29, 21, 28, 10, 28, 23, 25, 0, 21, 0, 15, 25, 29, 29, 17, 0, 3, 28, 23, 25, 21, 10, 23, 5, 10, 21, 0, 25, 29, 23, 0, 0, 23, 11, 0, 28, 29, 10, 0, 29, 23, 0, 23, 25, 25, 29, 17, 10, 10, 21, 29, 2, 5, 0, 29, 17], \"coloraxis\": \"coloraxis\", \"opacity\": 0.3, \"size\": [30460, 29302, 29195, 27532, 22628, 21895, 18026, 15436, 15055, 14193, 13036, 11687, 11439, 10345, 10294, 9995, 9461, 9343, 8070, 7581, 7369, 7286, 6440, 6108, 5228, 5014, 4925, 4894, 4803, 4674, 4645, 4269, 4242, 4118, 4044, 4042, 3972, 3969, 3850, 3447, 3400, 3374, 3356, 3337, 3337, 3324, 3262, 3224, 3121, 3073, 3065, 3046, 3045, 2959, 2923, 2895, 2887, 2732, 2665, 2647, 2643, 2576, 2542, 2541, 2492, 2460, 2295, 2293, 2275, 2210, 2193, 2192, 2156, 2143, 2138, 2100, 2012, 2012, 1986, 1956, 1956, 1927, 1918, 1887, 1872, 1867, 1825, 1799, 1786, 1784, 1774, 1760, 1731, 1713, 1657, 1645, 1639, 1626, 1624, 1612, 1611, 1586, 1584, 1580, 1572, 1561, 1554, 1505, 1490, 1455, 1452, 1445, 1440, 1434, 1419, 1418, 1407, 1372, 1358, 1313, 1283, 1276, 1267, 1239, 1178, 1172, 1149, 1149, 1145, 1132, 1131, 1118, 1116, 1111, 1110, 1109, 1108, 1099, 1092, 1075, 1068, 1064, 1054, 1040, 1016, 1007, 991, 989, 982, 981, 978, 958, 931, 929, 928, 926, 924, 918, 908, 899, 883, 881, 879, 872, 865, 863, 829, 827, 821, 819, 809, 805, 799, 796, 794, 792, 786, 785, 782, 762, 761, 760, 754, 753, 751, 746, 744, 739, 738, 729, 724, 713, 705, 704, 703, 701, 697, 697, 689, 686, 683, 680, 679, 678, 673, 672, 672, 670, 666, 666, 658, 657, 654, 653, 652, 650, 641, 639, 636, 630, 629, 627, 627, 621, 621, 620, 610, 606, 603, 601, 600, 594, 593, 582, 577, 576, 570, 569, 565, 565, 564, 564, 558, 556, 554, 549, 542, 540, 527, 519, 517, 515, 511, 507, 505, 504, 502, 500, 493, 492, 490, 486, 484, 477, 475, 474, 473, 472, 467, 467, 463, 460, 457, 456, 452, 451, 449, 447, 445, 444, 440, 434, 433, 433, 429, 425, 424, 422, 420, 415, 414, 412, 410, 408, 405, 401, 400, 396, 396, 390, 388, 383, 383, 381, 378, 378, 378, 378, 376, 376, 375, 375, 374, 373, 370, 370, 369, 362, 356, 354, 352, 350, 350, 350, 347, 339, 333, 332, 331, 329, 327, 326, 325, 324, 323, 322, 318, 316, 313, 310, 307, 307, 307, 306, 306, 302], \"sizemode\": \"area\", \"sizeref\": 6.216326530612245, \"symbol\": \"circle\"}, \"mode\": \"markers+text\", \"name\": \"\", \"orientation\": \"v\", \"showlegend\": false, \"text\": [\"zucker\", \"salzundpfeffer\", \"salz\", \"zwiebel\", \"ei\", \"butter\", \"mehl\", \"pfeffer\", \"oliven\\u00f6l\", \"wasser\", \"milch\", \"sahne\", \"tomate\", \"knoblauch\", \"knoblauchzehe\", \"petersilie\", \"paprikaschote\", \"kartoffel\", \"gem\\u00fcsebr\\u00fche\", \"zitronensaft\", \"paprikapulver\", \"zitrone\", \"vanillezucker\", \"backpulver\", \"muskat\", \"senf\", \"eigelb\", \"honig\", \"zimt\", \"tomatenmark\", \"puderzucker\", \"champignons\", \"thymian\", \"essig\", \"basilikum\", \"schlagsahne\", \"parmesan\", \"zucchini\", \"chilischote\", \"cr\\u00e8mefra\\u00eeche\", \"nudeln\", \"sojasauce\", \"fr\\u00fchlingszwiebel\", \"schnittlauch\", \"mandel\", \"karotte\", \"tk\", \"wei\\u00dfwein\", \"joghurt\", \"speisest\\u00e4rke\", \"hackfleisch\", \"kr\\u00e4uter\", \"ingwer\", \"schalotte\", \"rosmarin\", \"schokolade\", \"br\\u00fche\", \"speck\", \"oregano\", \"quark\", \"currypulver\", \"schinken\", \"balsamico\", \"reis\", \"banane\", \"orange\", \"gelatine\", \"frischk\\u00e4se\", \"lauch\", \"schmand\", \"wein\", \"dill\", \"vanilleschote\", \"cayennepfeffer\", \"erdbeeren\", \"kakaopulver\", \"apfel\", \"eiwei\\u00df\", \"kokosmilch\", \"bohnen\", \"hefe\", \"oliven\", \"margarine\", \"lorbeerbl\\u00e4tter\", \"butterschmalz\", \"chilipulver\", \"naturjoghurt\", \"rum\", \"salatgurke\", \"mayonnaise\", \"erbsen\", \"waln\\u00fcsse\", \"mais\", \"majoran\", \"meersalz\", \"mozzarella\", \"orangensaft\", \"feta-k\\u00e4se\", \"rotwein\", \"rosinen\", \"semmelbr\\u00f6sel\", \"spargel\", \"lauchzwiebel\", \"magerquark\", \"haferflocken\", \"haseln\\u00fcsse\", \"himbeeren\", \"zimtpulver\", \"limette\", \"kreuzk\\u00fcmmel\", \"mascarpone\", \"ananas\", \"salzwasser\", \"gew\\u00fcrzgurke\", \"weizenmehl\", \"lorbeerblatt\", \"fleischbr\\u00fche\", \"fett\", \"koriander\", \"minze\", \"raps\\u00f6l\", \"pinienkerne\", \"gew\\u00fcrzmischung\", \"spaghetti\", \"fettf\\u00fcrdieform\", \"puddingpulver\", \"kokosraspel\", \"birne\", \"aubergine\", \"bl\\u00e4tterteig\", \"rucola\", \"fischfilet\", \"vanillinzucker\", \"paniermehl\", \"sesam\", \"mango\", \"brokkoli\", \"gelierzucker\", \"kurkuma\", \"kochschinken\", \"schafsk\\u00e4se\", \"kirschtomate\", \"kuvert\\u00fcre\", \"saftdavon\", \"koriandergr\\u00fcn\", \"keks\", \"toastbrot\", \"curry\", \"porree\", \"peperoni\", \"pfefferk\\u00f6rner\", \"avocado\", \"sauce\", \"gurke\", \"pflanzen\\u00f6l\", \"kapern\", \"br\\u00f6tchen\", \"buttermilch\", \"blattspinat\", \"rohrzucker\", \"apfelsaft\", \"pfirsich\", \"sellerie\", \"linsen\", \"limettensaft\", \"nelke\", \"wei\\u00dfkohl\", \"bacon\", \"pilze\", \"wacholderbeere\", \"knollensellerie\", \"saucenbinder\", \"staudensellerie\", \"garnele\", \"sonnenblumen\\u00f6l\", \"blumenkohl\", \"vanille\", \"aprikose\", \"eis\", \"grie\\u00df\", \"kohlrabi\", \"cocktailtomaten\", \"sahnesteif\", \"chiliflocken\", \"thunfisch\", \"salbei\", \"gew\\u00fcrznelke\", \"salat\", \"zitronenschale\", \"amaretto\", \"spinat\", \"bandnudeln\", \"suppengr\\u00fcn\", \"schweinefilet\", \"piment\", \"sonnenblumenkerne\", \"wei\\u00dfweinessig\", \"gem\\u00fcsezwiebel\", \"muskatnuss\", \"rindfleisch\", \"kr\\u00e4utersalz\", \"sauerrahm\", \"kidneybohnen\", \"lachsfilet\", \"tabasco\", \"ingwerwurzel\", \"pistazien\", \"sauerkraut\", \"butterodermargarine\", \"salzundpfefferausderm\\u00fchle\", \"meerrettich\", \"currypaste\", \"weintrauben\", \"sesam\\u00f6l\", \"rotebete\", \"tomatenketchup\", \"mineralwasser\", \"sirup\", \"mandelbl\\u00e4ttchen\", \"natron\", \"beeren\", \"trockenhefe\", \"kirsche\", \"lachs\", \"radieschen\", \"kr\\u00e4uterderprovence\", \"chili\", \"lik\\u00f6r\", \"fenchel\", \"mandarine\", \"fischsauce\", \"sambaloelek\", \"ahornsirup\", \"ketchup\", \"cherrytomate\", \"heidelbeeren\", \"dinkelmehl\", \"brot\", \"gem\\u00fcse\", \"worcestersauce\", \"eisbergsalat\", \"rinderbr\\u00fche\", \"schmelzk\\u00e4se\", \"bio\", \"saft\", \"sherry\", \"wirsing\", \"gouda\", \"wurst\", \"erdn\\u00fcsse\", \"schweinefleisch\", \"schokoladenraspel\", \"estragon\", \"rhabarber\", \"nelkenpulver\", \"pflaume\", \"fleischtomate\", \"ingwerpulver\", \"kardamom\", \"fleischwurst\", \"kichererbsen\", \"marmelade\", \"tomaten\", \"zitronengras\", \"kondensmilch\", \"paprika\", \"kiwi\", \"chilisauce\", \"lebkuchengew\\u00fcrz\", \"bier\", \"sauerkirschen\", \"kaffee\", \"wei\\u00dfbrot\", \"feige\", \"knoblauchpulver\", \"feldsalat\", \"aroma\", \"fisch\", \"pesto\", \"ricotta\", \"pellkartoffel\", \"maggi\", \"rosenkohl\", \"apfelessig\", \"rinderhackfleisch\", \"bohnenkraut\", \"butterf\\u00fcrdieform\", \"zuckerschote\", \"johannisbeeren\", \"putenschnitzel\", \"eierlik\\u00f6r\", \"portwein\", \"kresse\", \"baguette\", \"salami\", \"dattel\", \"couscous\", \"hackfleischvomrind\", \"senfk\\u00f6rner\", \"instant\", \"pfefferausderm\\u00fchle\", \"korianderpulver\", \"zitronenmelisse\", \"orangenlik\\u00f6r\", \"kasseler\", \"pfifferlinge\", \"st\\u00e4rkemehl\", \"miracelwhip\", \"cranberries\", \"tofu\", \"cognac\", \"gorgonzola\", \"mandeln\", \"kerbel\", \"ziegenfrischk\\u00e4se\", \"sternanis\", \"putenbrust\", \"chinakohl\", \"fr\\u00fcchte\", \"mohn\", \"schweineschnitzel\", \"kr\\u00e4uterfrischk\\u00e4se\", \"gr\\u00f6\\u00dfem\", \"doppelrahmfrischk\\u00e4se\", \"steinpilze\", \"chicor\\u00e9e\", \"marzipanrohmasse\", \"penne\", \"emmentaler\", \"tee\", \"leinsamen\", \"gehacktes\", \"mehlf\\u00fcrdiearbeitsfl\\u00e4che\", \"hokkaidok\\u00fcrbis\", \"cashewn\\u00fcsse\", \"kaffeepulver\", \"schinkenspeck\", \"spitzpaprika\", \"acetobalsamico\", \"weinbrand\", \"sekt\", \"safran\", \"fischfond\", \"gew\\u00fcrz\", \"vollmilch\", \"kartoffeln\"], \"textfont\": {\"size\": 7}, \"textposition\": \"middle center\", \"type\": \"scatter\", \"x\": [14.456459045410156, -14.223668098449707, 19.396263122558594, -17.145212173461914, -1.0023945569992065, -3.7243945598602295, 2.6819021701812744, -11.27889347076416, -2.27077317237854, 6.843503475189209, -0.9676198959350586, -7.308541297912598, -5.178286075592041, 14.368048667907715, 14.370153427124023, -14.801324844360352, -9.179983139038086, -15.171887397766113, -19.24025535583496, 18.053133010864258, -12.36009407043457, 17.99599838256836, 10.629982948303223, 6.6430816650390625, -6.583279132843018, -0.8941249847412109, 0.5031075477600098, 13.53520393371582, 14.862387657165527, -13.128804206848145, 9.568747520446777, -9.063085556030273, -17.508501052856445, 7.698268413543701, -3.735290288925171, -7.298697471618652, -0.9301857948303223, -7.071917533874512, 7.962155342102051, -5.6189165115356445, -1.8107945919036865, 13.42650032043457, 7.616023540496826, 6.005137920379639, 9.625273704528809, 1.3160127401351929, 12.162203788757324, -15.048337936401367, -3.480240821838379, 1.886231541633606, -12.710532188415527, -5.737787246704102, 9.915040016174316, 5.719549655914307, -4.0092082023620605, 12.450178146362305, -18.611064910888672, -13.52460765838623, -6.662376403808594, -1.9856685400009155, 3.665013074874878, -7.2382402420043945, 2.992079019546509, -1.0605138540267944, 10.120394706726074, 2.081683397293091, 5.780035018920898, -4.756676197052002, -10.136935234069824, -4.658420085906982, -14.669589042663574, 6.880764007568359, 8.461479187011719, 4.877015113830566, 9.7654447555542, 13.233498573303223, 0.9388955235481262, 6.544225215911865, 11.053728103637695, -16.605342864990234, 5.184899806976318, -2.9469902515411377, -2.0117926597595215, -13.087464332580566, -6.95806360244751, 5.683772563934326, -3.544144630432129, 8.935331344604492, 1.7639967203140259, -0.6050723791122437, -13.327402114868164, 3.803640604019165, -10.747747421264648, -14.377299308776855, 18.994474411010742, -2.5551846027374268, 2.5315096378326416, -4.340782165527344, -13.905878067016602, 13.012154579162598, -3.646528482437134, 5.389765739440918, 7.64261531829834, -1.9656132459640503, 9.383757591247559, 9.881166458129883, 10.830301284790039, 14.774354934692383, 15.817837715148926, 6.320865631103516, 4.760387420654297, 7.340543746948242, -5.676338195800781, -3.047787666320801, 5.4669294357299805, -13.252092361450195, -17.351137161254883, -1.9856661558151245, 7.161890506744385, 14.51387882232666, 9.844894409179688, 0.8834720849990845, 6.498929500579834, -2.329737901687622, 0.3820129632949829, 15.163923263549805, 14.096567153930664, 3.5573644638061523, -6.667864799499512, -2.6074976921081543, 0.29657313227653503, 7.599707126617432, 10.996827125549316, -3.3500216007232666, 10.174542427062988, 14.145431518554688, -6.413596153259277, 5.411224365234375, 5.974987506866455, -7.759288787841797, -4.401220798492432, -1.1164653301239014, 12.087990760803223, -0.7511865496635437, 8.662657737731934, 12.71536922454834, -2.582545042037964, 3.6674633026123047, -10.49112319946289, -7.874561786651611, -11.212282180786133, 1.3692197799682617, 13.101594924926758, 1.1379727125167847, 9.380475997924805, -0.06931152939796448, -2.6596062183380127, -1.3771677017211914, -3.682478427886963, 13.289859771728516, 3.770502805709839, 7.544614315032959, -11.737553596496582, 3.55087947845459, 15.306539535522461, -11.317245483398438, -13.09910774230957, -8.214912414550781, -9.353504180908203, -12.772732734680176, -11.455577850341797, -11.503747940063477, 0.4319917857646942, 7.668001174926758, 9.7736177444458, -7.513206958770752, 13.374944686889648, 5.150711536407471, 9.102056503295898, 3.0191614627838135, -8.299372673034668, -1.6862813234329224, 13.919212341308594, 5.881533145904541, -0.4903642535209656, -4.964903831481934, -10.854377746582031, 1.5672370195388794, 7.733303546905518, 12.154439926147461, -3.6904098987579346, -2.992902994155884, -13.40776252746582, -8.028125762939453, -11.454288482666016, 9.817851066589355, 7.0855536460876465, -17.05352020263672, -6.835987567901611, -14.165752410888672, 18.349533081054688, -4.12746000289917, -10.707228660583496, 6.675077438354492, -3.324625253677368, 9.883294105529785, 7.358205795288086, -13.434815406799316, -2.449376106262207, -14.224538803100586, 5.899733543395996, 10.317453384399414, 2.9088876247406006, 12.496773719787598, 5.000260829925537, -3.643465280532837, 8.068583488464355, 7.994260787963867, 9.029990196228027, 7.710163116455078, 11.57720947265625, 5.388581275939941, 11.162108421325684, 5.938420295715332, 2.9492011070251465, -5.88106632232666, 6.645785331726074, 9.867997169494629, 0.6975286602973938, 7.495431900024414, 10.945637702941895, 11.640403747558594, 12.826872825622559, -4.084255218505859, -2.099078416824341, 11.264030456542969, 6.3632707595825195, -3.095154285430908, -12.971439361572266, -2.370842456817627, 0.6993095874786377, -16.50065040588379, -10.39008617401123, -0.5701762437820435, 5.230592727661133, 10.018146514892578, -10.576420783996582, -9.063193321228027, -4.945129871368408, 12.69000244140625, -14.557311058044434, 12.778164863586426, 7.492276191711426, 9.48816967010498, 14.417283058166504, 6.0334978103637695, -4.749546051025391, 7.657722473144531, 14.764647483825684, -3.9630439281463623, 5.003750324249268, 10.77413558959961, -9.041094779968262, 10.082539558410645, 0.5512364506721497, -9.738245010375977, 7.98966121673584, 12.420061111450195, 11.900161743164062, -15.080134391784668, 11.569096565246582, 13.699384689331055, -3.5923895835876465, 4.135434150695801, 3.050183057785034, 2.746683359146118, 11.541656494140625, 8.350933074951172, -1.9512380361557007, 1.314488172531128, -5.894892692565918, -4.839668273925781, -9.70388412475586, 6.441625118255615, -10.385787963867188, -15.754307746887207, 1.0940955877304077, 9.876409530639648, 9.836289405822754, -6.153419494628906, 13.497990608215332, -12.234368324279785, 4.285820960998535, 0.1900506317615509, -5.073314666748047, 12.08996295928955, 4.21721887588501, -12.394317626953125, -10.084769248962402, -12.10263729095459, -11.20317554473877, 6.807653903961182, 5.81178092956543, 8.66048812866211, -12.48569393157959, -7.372375965118408, 1.936877727508545, -1.6751049757003784, 11.43055534362793, 11.890359878540039, -12.109487533569336, -0.2512747347354889, 9.572406768798828, 6.9750823974609375, 1.5034496784210205, -9.92044734954834, -5.586686611175537, 10.819528579711914, 11.571961402893066, 8.859759330749512, -9.854374885559082, -9.137287139892578, 7.487806797027588, -4.383852481842041, -6.543503761291504, 3.373673915863037, 10.478840827941895, -2.587679862976074, -9.41195011138916, 6.775506019592285, 9.760725021362305, -11.948307037353516, 4.105373382568359, 3.1077380180358887, 12.366202354431152, 13.462281227111816, -12.783495903015137, -8.430394172668457, 2.408830404281616, -11.938841819763184, 6.54094123840332, 2.1099789142608643, 8.047883987426758, -9.933775901794434, 14.3631591796875, -9.483777046203613], \"xaxis\": \"x\", \"y\": [9.209953308105469, -24.911008834838867, -9.93997859954834, -12.607421875, 13.883502960205078, 9.116007804870605, 10.968127250671387, -26.711828231811523, -20.021621704101562, 1.496261715888977, 11.887361526489258, 12.75719928741455, -17.98865509033203, -14.937296867370605, -14.935718536376953, -8.736908912658691, -20.116281509399414, -6.805544853210449, -2.050276756286621, 1.0968852043151855, -17.000558853149414, 1.4828228950500488, 22.739219665527344, 15.813405990600586, -0.13581667840480804, -28.65728759765625, 13.697049140930176, 9.749985694885254, 16.075782775878906, -18.477764129638672, 21.07989501953125, -9.353743553161621, -9.14727783203125, -24.330734252929688, -16.395925521850586, 12.836174964904785, -14.024775505065918, -18.26167106628418, -5.090321063995361, 13.036935806274414, -10.884835243225098, -6.268885135650635, -10.36713695526123, -21.087963104248047, 17.674768447875977, -3.5357630252838135, -18.91261863708496, 6.894996166229248, 18.823755264282227, 8.141130447387695, -14.965507507324219, -15.148897171020508, -1.8947449922561646, -11.621545791625977, -7.706489562988281, 21.969120025634766, -2.002734661102295, -5.332396030426025, -16.641010284423828, 16.812633514404297, 0.37817084789276123, -13.009782791137695, -18.910507202148438, -10.062050819396973, 32.064849853515625, 23.92931365966797, 29.33612823486328, 15.135887145996094, -6.009048938751221, 13.804890632629395, 6.7602314949035645, -20.238174438476562, 23.817724227905273, -7.481372356414795, 29.004850387573242, 20.334596633911133, 27.058799743652344, 18.84200668334961, -3.1862869262695312, -4.675781726837158, 14.920910835266113, -19.112890243530273, 9.296405792236328, 1.5766276121139526, 7.0401153564453125, -6.2578301429748535, 18.84267807006836, 22.50731086730957, -24.796724319458008, -25.735597610473633, -11.374231338500977, 20.02402114868164, -20.810832977294922, -4.700192451477051, -10.119322776794434, -15.509799003601074, 24.69886016845703, -19.985429763793945, 4.660142421722412, 15.159381866455078, 3.650222063064575, -15.522994041442871, -10.365887641906738, 17.07257843017578, 11.595837593078613, 17.04086685180664, 29.177692413330078, 15.723040580749512, -0.2934059798717499, -3.287123680114746, 30.428232192993164, 33.11343002319336, -12.055168151855469, -25.38400650024414, 12.246978759765625, 1.4200752973556519, -1.8836133480072021, 9.96852970123291, -2.834383964538574, 0.966059684753418, 2.8670132160186768, -15.711008071899414, -6.984785079956055, -11.646775245666504, 11.989991188049316, 24.744224548339844, 29.02647590637207, 22.79962158203125, -19.173429489135742, -2.2108099460601807, -18.396669387817383, -15.538726806640625, 22.394378662109375, 3.8939168453216553, 6.5643792152404785, -1.0687000751495361, -4.669297218322754, 24.923233032226562, -2.358336925506592, -13.207358360290527, -19.672931671142578, -17.376842498779297, 21.07745933532715, 23.76833152770996, -4.096431255340576, 25.75882911682129, 0.39897480607032776, 0.4042498767375946, -6.279564380645752, -20.166568756103516, 1.9286434650421143, -22.19972801208496, -8.973569869995117, -25.02280044555664, 1.7238118648529053, -20.2268123626709, 3.2951762676239014, 18.544769287109375, -4.350205421447754, 11.148356437683105, 25.363975524902344, 31.098840713500977, -1.4156287908554077, -3.328429937362671, -0.5671064257621765, 4.478895664215088, -2.5694046020507812, -10.88985824584961, -8.198755264282227, 3.1174004077911377, -0.9791566133499146, -8.082636833190918, -7.003898620605469, -13.2477388381958, 2.7680251598358154, -4.015183925628662, 27.1893310546875, 21.83420753479004, 26.797481536865234, 13.034444808959961, -3.895488739013672, -17.712026596069336, 25.617015838623047, -5.050652503967285, -23.439367294311523, -7.52345085144043, 4.564784526824951, -23.567920684814453, 18.105884552001953, 23.66425132751465, -4.323785781860352, -11.214597702026367, -0.9650403261184692, -8.991376876831055, 3.4221062660217285, 9.725972175598145, -24.18546485900879, -12.506135940551758, -0.7264479398727417, -1.5808444023132324, -10.405747413635254, 13.280259132385254, -19.70876121520996, -15.151037216186523, -28.796194076538086, -2.3755953311920166, 20.9958553314209, -3.7103307247161865, 9.69444465637207, -24.907312393188477, -20.23433494567871, -5.863317966461182, 28.136417388916016, -5.181632041931152, -24.506118774414062, -28.147663116455078, 10.698183059692383, 27.013349533081055, 19.30979347229004, 15.114391326904297, 29.356592178344727, 14.676202774047852, 24.124841690063477, -18.363569259643555, -23.79462432861328, -15.964859008789062, -5.276653289794922, 25.965845108032227, -7.287692546844482, 32.63923263549805, -4.917600154876709, -6.981851577758789, 10.632749557495117, -27.77730369567871, -17.445009231567383, 28.106786727905273, 12.522027015686035, 0.9984282851219177, -11.46668815612793, -28.836322784423828, -23.963111877441406, -1.9552780389785767, -11.659224510192871, 23.361783981323242, 26.266504287719727, -12.983075141906738, -4.711206912994385, -13.699501037597656, -24.54697608947754, -3.8860082626342773, -1.9939380884170532, 24.644041061401367, -17.344348907470703, 24.661752700805664, 14.045454978942871, 23.11617660522461, -18.076114654541016, -0.7152212858200073, 14.10897159576416, -25.384899139404297, -3.7245445251464844, 20.677717208862305, -17.69611167907715, -4.675188064575195, 17.181072235107422, -18.988935470581055, 29.579256057739258, -7.683509826660156, 18.582441329956055, 0.10192514210939407, 25.13913917541504, 23.358333587646484, 1.6072272062301636, 21.833873748779297, -10.582545280456543, -21.83348846435547, 19.633440017700195, -16.638612747192383, -16.23733139038086, -14.414984703063965, -24.659635543823242, -25.908546447753906, -4.410687446594238, -24.675268173217773, -18.097219467163086, -4.088498592376709, 12.373315811157227, -7.6774983406066895, 27.458866119384766, -11.158927917480469, 24.64116096496582, 6.525097846984863, -22.049959182739258, -17.090158462524414, -22.374752044677734, 12.700542449951172, -4.830982208251953, -15.523673057556152, 2.327989339828491, -8.991559028625488, -26.691856384277344, -1.7599109411239624, 27.815380096435547, 25.696182250976562, -4.339468002319336, -7.397831439971924, 8.301573753356934, -25.542051315307617, 13.055278778076172, -5.936293601989746, 7.613546848297119, -13.43908405303955, 14.116960525512695, -17.98634910583496, -16.554975509643555, 5.412955284118652, -10.471034049987793, -7.822848320007324, 27.078292846679688, 15.322154998779297, -10.781092643737793, -12.61801528930664, 13.606176376342773, 15.664731979370117, -7.207903861999512, -22.62758445739746, 19.730981826782227, -13.749051094055176, -13.306052207946777, 25.722108840942383, 10.945573806762695, -14.197903633117676, 13.330682754516602, -2.4268686771392822, -2.888882875442505, 22.486555099487305, -5.7806901931762695, -19.126863479614258, -18.30777359008789, 8.128460884094238, 27.338171005249023, -7.368753910064697, -14.772761344909668, -15.165831565856934, 21.736328125, -3.202974796295166], \"yaxis\": \"y\"}],\n",
       "                        {\"coloraxis\": {\"colorbar\": {\"title\": {\"text\": \"cluster\"}}, \"colorscale\": [[0.0, \"#0d0887\"], [0.1111111111111111, \"#46039f\"], [0.2222222222222222, \"#7201a8\"], [0.3333333333333333, \"#9c179e\"], [0.4444444444444444, \"#bd3786\"], [0.5555555555555556, \"#d8576b\"], [0.6666666666666666, \"#ed7953\"], [0.7777777777777778, \"#fb9f3a\"], [0.8888888888888888, \"#fdca26\"], [1.0, \"#f0f921\"]]}, \"height\": 800, \"legend\": {\"itemsizing\": \"constant\", \"tracegroupgap\": 0}, \"margin\": {\"t\": 60}, \"plot_bgcolor\": \"white\", \"template\": {\"data\": {\"bar\": [{\"error_x\": {\"color\": \"#2a3f5f\"}, \"error_y\": {\"color\": \"#2a3f5f\"}, \"marker\": {\"line\": {\"color\": \"#E5ECF6\", \"width\": 0.5}}, \"type\": \"bar\"}], \"barpolar\": [{\"marker\": {\"line\": {\"color\": \"#E5ECF6\", \"width\": 0.5}}, \"type\": \"barpolar\"}], \"carpet\": [{\"aaxis\": {\"endlinecolor\": \"#2a3f5f\", \"gridcolor\": \"white\", \"linecolor\": \"white\", \"minorgridcolor\": \"white\", \"startlinecolor\": \"#2a3f5f\"}, \"baxis\": {\"endlinecolor\": \"#2a3f5f\", \"gridcolor\": \"white\", \"linecolor\": \"white\", \"minorgridcolor\": \"white\", \"startlinecolor\": \"#2a3f5f\"}, \"type\": \"carpet\"}], \"choropleth\": [{\"colorbar\": {\"outlinewidth\": 0, \"ticks\": \"\"}, \"type\": \"choropleth\"}], \"contour\": [{\"colorbar\": {\"outlinewidth\": 0, \"ticks\": \"\"}, \"colorscale\": [[0.0, \"#0d0887\"], [0.1111111111111111, \"#46039f\"], [0.2222222222222222, \"#7201a8\"], [0.3333333333333333, \"#9c179e\"], [0.4444444444444444, \"#bd3786\"], [0.5555555555555556, \"#d8576b\"], [0.6666666666666666, \"#ed7953\"], [0.7777777777777778, \"#fb9f3a\"], [0.8888888888888888, \"#fdca26\"], [1.0, \"#f0f921\"]], \"type\": \"contour\"}], \"contourcarpet\": [{\"colorbar\": {\"outlinewidth\": 0, \"ticks\": \"\"}, \"type\": \"contourcarpet\"}], \"heatmap\": [{\"colorbar\": {\"outlinewidth\": 0, \"ticks\": \"\"}, \"colorscale\": [[0.0, \"#0d0887\"], [0.1111111111111111, \"#46039f\"], [0.2222222222222222, \"#7201a8\"], [0.3333333333333333, \"#9c179e\"], [0.4444444444444444, \"#bd3786\"], [0.5555555555555556, \"#d8576b\"], [0.6666666666666666, \"#ed7953\"], [0.7777777777777778, \"#fb9f3a\"], [0.8888888888888888, \"#fdca26\"], [1.0, \"#f0f921\"]], \"type\": \"heatmap\"}], \"heatmapgl\": [{\"colorbar\": {\"outlinewidth\": 0, \"ticks\": \"\"}, \"colorscale\": [[0.0, \"#0d0887\"], [0.1111111111111111, \"#46039f\"], [0.2222222222222222, \"#7201a8\"], [0.3333333333333333, \"#9c179e\"], [0.4444444444444444, \"#bd3786\"], [0.5555555555555556, \"#d8576b\"], [0.6666666666666666, \"#ed7953\"], [0.7777777777777778, \"#fb9f3a\"], [0.8888888888888888, \"#fdca26\"], [1.0, \"#f0f921\"]], \"type\": \"heatmapgl\"}], \"histogram\": [{\"marker\": {\"colorbar\": {\"outlinewidth\": 0, \"ticks\": \"\"}}, \"type\": \"histogram\"}], \"histogram2d\": [{\"colorbar\": {\"outlinewidth\": 0, \"ticks\": \"\"}, \"colorscale\": [[0.0, \"#0d0887\"], [0.1111111111111111, \"#46039f\"], [0.2222222222222222, \"#7201a8\"], [0.3333333333333333, \"#9c179e\"], [0.4444444444444444, \"#bd3786\"], [0.5555555555555556, \"#d8576b\"], [0.6666666666666666, \"#ed7953\"], [0.7777777777777778, \"#fb9f3a\"], [0.8888888888888888, \"#fdca26\"], [1.0, \"#f0f921\"]], \"type\": \"histogram2d\"}], \"histogram2dcontour\": [{\"colorbar\": {\"outlinewidth\": 0, \"ticks\": \"\"}, \"colorscale\": [[0.0, \"#0d0887\"], [0.1111111111111111, \"#46039f\"], [0.2222222222222222, \"#7201a8\"], [0.3333333333333333, \"#9c179e\"], [0.4444444444444444, \"#bd3786\"], [0.5555555555555556, \"#d8576b\"], [0.6666666666666666, \"#ed7953\"], [0.7777777777777778, \"#fb9f3a\"], [0.8888888888888888, \"#fdca26\"], [1.0, \"#f0f921\"]], \"type\": \"histogram2dcontour\"}], \"mesh3d\": [{\"colorbar\": {\"outlinewidth\": 0, \"ticks\": \"\"}, \"type\": \"mesh3d\"}], \"parcoords\": [{\"line\": {\"colorbar\": {\"outlinewidth\": 0, \"ticks\": \"\"}}, \"type\": \"parcoords\"}], \"pie\": [{\"automargin\": true, \"type\": \"pie\"}], \"scatter\": [{\"marker\": {\"colorbar\": {\"outlinewidth\": 0, \"ticks\": \"\"}}, \"type\": \"scatter\"}], \"scatter3d\": [{\"line\": {\"colorbar\": {\"outlinewidth\": 0, \"ticks\": \"\"}}, \"marker\": {\"colorbar\": {\"outlinewidth\": 0, \"ticks\": \"\"}}, \"type\": \"scatter3d\"}], \"scattercarpet\": [{\"marker\": {\"colorbar\": {\"outlinewidth\": 0, \"ticks\": \"\"}}, \"type\": \"scattercarpet\"}], \"scattergeo\": [{\"marker\": {\"colorbar\": {\"outlinewidth\": 0, \"ticks\": \"\"}}, \"type\": \"scattergeo\"}], \"scattergl\": [{\"marker\": {\"colorbar\": {\"outlinewidth\": 0, \"ticks\": \"\"}}, \"type\": \"scattergl\"}], \"scattermapbox\": [{\"marker\": {\"colorbar\": {\"outlinewidth\": 0, \"ticks\": \"\"}}, \"type\": \"scattermapbox\"}], \"scatterpolar\": [{\"marker\": {\"colorbar\": {\"outlinewidth\": 0, \"ticks\": \"\"}}, \"type\": \"scatterpolar\"}], \"scatterpolargl\": [{\"marker\": {\"colorbar\": {\"outlinewidth\": 0, \"ticks\": \"\"}}, \"type\": \"scatterpolargl\"}], \"scatterternary\": [{\"marker\": {\"colorbar\": {\"outlinewidth\": 0, \"ticks\": \"\"}}, \"type\": \"scatterternary\"}], \"surface\": [{\"colorbar\": {\"outlinewidth\": 0, \"ticks\": \"\"}, \"colorscale\": [[0.0, \"#0d0887\"], [0.1111111111111111, \"#46039f\"], [0.2222222222222222, \"#7201a8\"], [0.3333333333333333, \"#9c179e\"], [0.4444444444444444, \"#bd3786\"], [0.5555555555555556, \"#d8576b\"], [0.6666666666666666, \"#ed7953\"], [0.7777777777777778, \"#fb9f3a\"], [0.8888888888888888, \"#fdca26\"], [1.0, \"#f0f921\"]], \"type\": \"surface\"}], \"table\": [{\"cells\": {\"fill\": {\"color\": \"#EBF0F8\"}, \"line\": {\"color\": \"white\"}}, \"header\": {\"fill\": {\"color\": \"#C8D4E3\"}, \"line\": {\"color\": \"white\"}}, \"type\": \"table\"}]}, \"layout\": {\"annotationdefaults\": {\"arrowcolor\": \"#2a3f5f\", \"arrowhead\": 0, \"arrowwidth\": 1}, \"coloraxis\": {\"colorbar\": {\"outlinewidth\": 0, \"ticks\": \"\"}}, \"colorscale\": {\"diverging\": [[0, \"#8e0152\"], [0.1, \"#c51b7d\"], [0.2, \"#de77ae\"], [0.3, \"#f1b6da\"], [0.4, \"#fde0ef\"], [0.5, \"#f7f7f7\"], [0.6, \"#e6f5d0\"], [0.7, \"#b8e186\"], [0.8, \"#7fbc41\"], [0.9, \"#4d9221\"], [1, \"#276419\"]], \"sequential\": [[0.0, \"#0d0887\"], [0.1111111111111111, \"#46039f\"], [0.2222222222222222, \"#7201a8\"], [0.3333333333333333, \"#9c179e\"], [0.4444444444444444, \"#bd3786\"], [0.5555555555555556, \"#d8576b\"], [0.6666666666666666, \"#ed7953\"], [0.7777777777777778, \"#fb9f3a\"], [0.8888888888888888, \"#fdca26\"], [1.0, \"#f0f921\"]], \"sequentialminus\": [[0.0, \"#0d0887\"], [0.1111111111111111, \"#46039f\"], [0.2222222222222222, \"#7201a8\"], [0.3333333333333333, \"#9c179e\"], [0.4444444444444444, \"#bd3786\"], [0.5555555555555556, \"#d8576b\"], [0.6666666666666666, \"#ed7953\"], [0.7777777777777778, \"#fb9f3a\"], [0.8888888888888888, \"#fdca26\"], [1.0, \"#f0f921\"]]}, \"colorway\": [\"#636efa\", \"#EF553B\", \"#00cc96\", \"#ab63fa\", \"#FFA15A\", \"#19d3f3\", \"#FF6692\", \"#B6E880\", \"#FF97FF\", \"#FECB52\"], \"font\": {\"color\": \"#2a3f5f\"}, \"geo\": {\"bgcolor\": \"white\", \"lakecolor\": \"white\", \"landcolor\": \"#E5ECF6\", \"showlakes\": true, \"showland\": true, \"subunitcolor\": \"white\"}, \"hoverlabel\": {\"align\": \"left\"}, \"hovermode\": \"closest\", \"mapbox\": {\"style\": \"light\"}, \"paper_bgcolor\": \"white\", \"plot_bgcolor\": \"#E5ECF6\", \"polar\": {\"angularaxis\": {\"gridcolor\": \"white\", \"linecolor\": \"white\", \"ticks\": \"\"}, \"bgcolor\": \"#E5ECF6\", \"radialaxis\": {\"gridcolor\": \"white\", \"linecolor\": \"white\", \"ticks\": \"\"}}, \"scene\": {\"xaxis\": {\"backgroundcolor\": \"#E5ECF6\", \"gridcolor\": \"white\", \"gridwidth\": 2, \"linecolor\": \"white\", \"showbackground\": true, \"ticks\": \"\", \"zerolinecolor\": \"white\"}, \"yaxis\": {\"backgroundcolor\": \"#E5ECF6\", \"gridcolor\": \"white\", \"gridwidth\": 2, \"linecolor\": \"white\", \"showbackground\": true, \"ticks\": \"\", \"zerolinecolor\": \"white\"}, \"zaxis\": {\"backgroundcolor\": \"#E5ECF6\", \"gridcolor\": \"white\", \"gridwidth\": 2, \"linecolor\": \"white\", \"showbackground\": true, \"ticks\": \"\", \"zerolinecolor\": \"white\"}}, \"shapedefaults\": {\"line\": {\"color\": \"#2a3f5f\"}}, \"ternary\": {\"aaxis\": {\"gridcolor\": \"white\", \"linecolor\": \"white\", \"ticks\": \"\"}, \"baxis\": {\"gridcolor\": \"white\", \"linecolor\": \"white\", \"ticks\": \"\"}, \"bgcolor\": \"#E5ECF6\", \"caxis\": {\"gridcolor\": \"white\", \"linecolor\": \"white\", \"ticks\": \"\"}}, \"title\": {\"x\": 0.05}, \"xaxis\": {\"automargin\": true, \"gridcolor\": \"white\", \"linecolor\": \"white\", \"ticks\": \"\", \"title\": {\"standoff\": 15}, \"zerolinecolor\": \"white\", \"zerolinewidth\": 2}, \"yaxis\": {\"automargin\": true, \"gridcolor\": \"white\", \"linecolor\": \"white\", \"ticks\": \"\", \"title\": {\"standoff\": 15}, \"zerolinecolor\": \"white\", \"zerolinewidth\": 2}}}, \"uniformtext\": {\"minsize\": 3}, \"width\": 1000, \"xaxis\": {\"anchor\": \"y\", \"domain\": [0.0, 1.0], \"title\": {\"text\": \"x\"}, \"type\": \"log\"}, \"yaxis\": {\"anchor\": \"x\", \"domain\": [0.0, 1.0], \"title\": {\"text\": \"y\"}}},\n",
       "                        {\"responsive\": true}\n",
       "                    ).then(function(){\n",
       "                            \n",
       "var gd = document.getElementById('a2be20fb-941d-4dc0-8f13-80c4b6cc33e6');\n",
       "var x = new MutationObserver(function (mutations, observer) {{\n",
       "        var display = window.getComputedStyle(gd).display;\n",
       "        if (!display || display === 'none') {{\n",
       "            console.log([gd, 'removed!']);\n",
       "            Plotly.purge(gd);\n",
       "            observer.disconnect();\n",
       "        }}\n",
       "}});\n",
       "\n",
       "// Listen for the removal of the full notebook cells\n",
       "var notebookContainer = gd.closest('#notebook-container');\n",
       "if (notebookContainer) {{\n",
       "    x.observe(notebookContainer, {childList: true});\n",
       "}}\n",
       "\n",
       "// Listen for the clearing of the current output cell\n",
       "var outputEl = gd.closest('.output');\n",
       "if (outputEl) {{\n",
       "    x.observe(outputEl, {childList: true});\n",
       "}}\n",
       "\n",
       "                        })\n",
       "                };\n",
       "                });\n",
       "            </script>\n",
       "        </div>"
      ]
     },
     "metadata": {},
     "output_type": "display_data"
    }
   ],
   "source": [
    "import plotly.express as px\n",
    "from plotly.graph_objs import *\n",
    "\n",
    "\n",
    "fig = px.scatter(df_plot, x=\"x\", y=\"y\",\n",
    "         size=\"size\", color=\"cluster\", text=\"name\",log_x=True, size_max=70,opacity=0.3)\n",
    "\n",
    "fig.update_traces(textposition='middle center', textfont_size=7)\n",
    "\n",
    "\n",
    "fig.update_layout(\n",
    "    height=800,\n",
    "    width = 1000,\n",
    "    uniformtext_minsize=3,\n",
    "    plot_bgcolor = 'white')\n",
    "\n",
    "\n",
    "fig.show()"
   ]
  },
  {
   "cell_type": "code",
   "execution_count": 48,
   "metadata": {},
   "outputs": [
    {
     "data": {
      "text/plain": [
       "[('honig', 0.6807121634483337),\n",
       " ('rohrzucker', 0.6631439924240112),\n",
       " ('puderzucker', 0.6437190771102905),\n",
       " ('grünkohloderwirsing', 0.620855450630188),\n",
       " ('speisestärke', 0.6118991374969482),\n",
       " ('quarkoderschichtkäseoderricotta', 0.593627393245697),\n",
       " ('haferflocken-*', 0.5893736481666565),\n",
       " ('stärkemehl', 0.5779958963394165),\n",
       " ('backmischungfürkrustenbrot', 0.5776486992835999),\n",
       " ('butterfürdiezucker-reduktion', 0.5762193202972412)]"
      ]
     },
     "execution_count": 48,
     "metadata": {},
     "output_type": "execute_result"
    }
   ],
   "source": [
    "model.wv.most_similar(\"zucker\")"
   ]
  }
 ],
 "metadata": {
  "kernelspec": {
   "display_name": "Python 3",
   "language": "python",
   "name": "python3"
  },
  "language_info": {
   "codemirror_mode": {
    "name": "ipython",
    "version": 3
   },
   "file_extension": ".py",
   "mimetype": "text/x-python",
   "name": "python",
   "nbconvert_exporter": "python",
   "pygments_lexer": "ipython3",
   "version": "3.6.10"
  },
  "toc": {
   "base_numbering": 1,
   "nav_menu": {},
   "number_sections": true,
   "sideBar": true,
   "skip_h1_title": false,
   "title_cell": "Table of Contents",
   "title_sidebar": "Contents",
   "toc_cell": false,
   "toc_position": {},
   "toc_section_display": true,
   "toc_window_display": false
  }
 },
 "nbformat": 4,
 "nbformat_minor": 2
}
