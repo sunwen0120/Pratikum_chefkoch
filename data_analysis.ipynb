{
 "cells": [
  {
   "cell_type": "code",
   "execution_count": 1,
   "metadata": {},
   "outputs": [],
   "source": [
    "import numpy as np\n",
    "import pandas as pd"
   ]
  },
  {
   "cell_type": "markdown",
   "metadata": {},
   "source": [
    "## Helper Function"
   ]
  },
  {
   "cell_type": "code",
   "execution_count": 8,
   "metadata": {},
   "outputs": [],
   "source": [
    "def tags_preprocess(tags):\n",
    "    tags = tags.replace(\"'\",\"\")\n",
    "    tags = tags.replace(\" \",\"\")\n",
    "    tags = tags.replace(\"[\",\"\")\n",
    "    tags = tags.replace(\"]\",\"\")\n",
    "    tags = tags.split(\",\")\n",
    "    tags = [x.lower() for x in tags]\n",
    "    return tags"
   ]
  },
  {
   "cell_type": "code",
   "execution_count": 9,
   "metadata": {},
   "outputs": [],
   "source": [
    "def ingredients_preprocess(ingredients):\n",
    "    r = re.compile('[A-Z]{1}[a-zA-Z]+')\n",
    "    #ingredients = ''.join(i for i in ingredients if not i.isdigit())\n",
    "    ingredients = ingredients.replace(\"'\",\"\")\n",
    "    ingredients = ingredients.replace(\" \",\"\")\n",
    "    ingredients = ingredients.replace(\"[\",\"\")\n",
    "    ingredients = ingredients.replace(\"]\",\"\")\n",
    "    # remove text inside parentheses\n",
    "    ingredients = re.sub(r'\\([^())]*\\)',\"\", ingredients)\n",
    "    ingredients = ingredients.split(\",\")\n",
    "    ingredients = list(filter(r.match, ingredients))\n",
    "    ingredients = [x.lower() for x in ingredients]\n",
    "    return ingredients"
   ]
  },
  {
   "cell_type": "markdown",
   "metadata": {},
   "source": [
    "## Subgroup Discovery\n",
    "\n",
    "In this section we will use subgroup discovery to explore the association rules between attributes"
   ]
  },
  {
   "cell_type": "code",
   "execution_count": 2,
   "metadata": {},
   "outputs": [],
   "source": [
    "# read the data\n",
    "data = pd.read_csv(\"/Users/xujingjing/Desktop/2020 Sommer/praktikum/Data/all_data.csv\")"
   ]
  },
  {
   "cell_type": "code",
   "execution_count": 7,
   "metadata": {},
   "outputs": [
    {
     "data": {
      "text/html": [
       "<div>\n",
       "<style scoped>\n",
       "    .dataframe tbody tr th:only-of-type {\n",
       "        vertical-align: middle;\n",
       "    }\n",
       "\n",
       "    .dataframe tbody tr th {\n",
       "        vertical-align: top;\n",
       "    }\n",
       "\n",
       "    .dataframe thead th {\n",
       "        text-align: right;\n",
       "    }\n",
       "</style>\n",
       "<table border=\"1\" class=\"dataframe\">\n",
       "  <thead>\n",
       "    <tr style=\"text-align: right;\">\n",
       "      <th></th>\n",
       "      <th>categorize</th>\n",
       "      <th>recipe_name</th>\n",
       "      <th>tags</th>\n",
       "      <th>avg_score</th>\n",
       "      <th>difficulty</th>\n",
       "      <th>ingredient</th>\n",
       "      <th>rating_count</th>\n",
       "      <th>calorie</th>\n",
       "      <th>preparation_time</th>\n",
       "      <th>comment_user</th>\n",
       "      <th>recipe_url</th>\n",
       "    </tr>\n",
       "  </thead>\n",
       "  <tbody>\n",
       "    <tr>\n",
       "      <th>0</th>\n",
       "      <td>Menüart</td>\n",
       "      <td>\"A bis Z\"-Salat</td>\n",
       "      <td>['Salat', 'Gemüse', 'Sommer', 'Vegetarisch', '...</td>\n",
       "      <td>2.67</td>\n",
       "      <td>simpel</td>\n",
       "      <td>['1m.-große', 'Zucchini', '1', 'Apfel,säuerlic...</td>\n",
       "      <td>1.0</td>\n",
       "      <td>NaN</td>\n",
       "      <td>15 Min</td>\n",
       "      <td>[{'rating': 'rating-3', 'comment_time': '24.09...</td>\n",
       "      <td>https://www.chefkoch.de/rezepte/23694213760282...</td>\n",
       "    </tr>\n",
       "    <tr>\n",
       "      <th>1</th>\n",
       "      <td>Menüart</td>\n",
       "      <td>\"Aufgehende Sonne\"</td>\n",
       "      <td>['Asien', 'Hauptspeise', 'Nudeln', 'Beilage', ...</td>\n",
       "      <td>3.60</td>\n",
       "      <td>normal</td>\n",
       "      <td>['500g', 'Nudeln(Mie-),ReisnudelnoderReis', '4...</td>\n",
       "      <td>3.0</td>\n",
       "      <td>500kcal</td>\n",
       "      <td>30 Min</td>\n",
       "      <td>[{'rating': 'rating-5', 'comment_time': '10.08...</td>\n",
       "      <td>https://www.chefkoch.de/rezepte/18838313064020...</td>\n",
       "    </tr>\n",
       "    <tr>\n",
       "      <th>2</th>\n",
       "      <td>Regional</td>\n",
       "      <td>\"Black and White\" New York Cheesecake</td>\n",
       "      <td>['Backen', 'USAoderKanada', 'Kuchen']</td>\n",
       "      <td>0.00</td>\n",
       "      <td>normal</td>\n",
       "      <td>['250g', 'Bitterschokolade,70%', '300g', 'Schl...</td>\n",
       "      <td>0.0</td>\n",
       "      <td>NaN</td>\n",
       "      <td>60 Min</td>\n",
       "      <td>NaN</td>\n",
       "      <td>https://www.chefkoch.de/rezepte/36158315436795...</td>\n",
       "    </tr>\n",
       "    <tr>\n",
       "      <th>3</th>\n",
       "      <td>Menüart</td>\n",
       "      <td>\"Bleib gesund\"-Smoothie SuperNova</td>\n",
       "      <td>['Getränk', 'Vegetarisch', 'Frühstück', 'kalor...</td>\n",
       "      <td>4.03</td>\n",
       "      <td>simpel</td>\n",
       "      <td>['1m.-große', 'Karotte(n)', '1', 'Apfel', '1St...</td>\n",
       "      <td>84.0</td>\n",
       "      <td>205kcal</td>\n",
       "      <td>5 Min</td>\n",
       "      <td>[{'rating': 'rating-1', 'comment_time': '13.01...</td>\n",
       "      <td>https://www.chefkoch.de/rezepte/20464013311985...</td>\n",
       "    </tr>\n",
       "    <tr>\n",
       "      <th>4</th>\n",
       "      <td>Menüart</td>\n",
       "      <td>\"Bottermelk Anballerste\"</td>\n",
       "      <td>['Hauptspeise', 'Europa', 'Suppe', 'gebunden',...</td>\n",
       "      <td>3.60</td>\n",
       "      <td>normal</td>\n",
       "      <td>['500g', 'Kartoffel(n)', '1', 'Zwiebel(n)', '1...</td>\n",
       "      <td>3.0</td>\n",
       "      <td>NaN</td>\n",
       "      <td>15 Min</td>\n",
       "      <td>[{'rating': 'rating-3', 'comment_time': '10.11...</td>\n",
       "      <td>https://www.chefkoch.de/rezepte/33875015040182...</td>\n",
       "    </tr>\n",
       "  </tbody>\n",
       "</table>\n",
       "</div>"
      ],
      "text/plain": [
       "  categorize                            recipe_name  \\\n",
       "0    Menüart                        \"A bis Z\"-Salat   \n",
       "1    Menüart                     \"Aufgehende Sonne\"   \n",
       "2   Regional  \"Black and White\" New York Cheesecake   \n",
       "3    Menüart      \"Bleib gesund\"-Smoothie SuperNova   \n",
       "4    Menüart               \"Bottermelk Anballerste\"   \n",
       "\n",
       "                                                tags  avg_score difficulty  \\\n",
       "0  ['Salat', 'Gemüse', 'Sommer', 'Vegetarisch', '...       2.67     simpel   \n",
       "1  ['Asien', 'Hauptspeise', 'Nudeln', 'Beilage', ...       3.60     normal   \n",
       "2              ['Backen', 'USAoderKanada', 'Kuchen']       0.00     normal   \n",
       "3  ['Getränk', 'Vegetarisch', 'Frühstück', 'kalor...       4.03     simpel   \n",
       "4  ['Hauptspeise', 'Europa', 'Suppe', 'gebunden',...       3.60     normal   \n",
       "\n",
       "                                          ingredient  rating_count  calorie  \\\n",
       "0  ['1m.-große', 'Zucchini', '1', 'Apfel,säuerlic...           1.0      NaN   \n",
       "1  ['500g', 'Nudeln(Mie-),ReisnudelnoderReis', '4...           3.0  500kcal   \n",
       "2  ['250g', 'Bitterschokolade,70%', '300g', 'Schl...           0.0      NaN   \n",
       "3  ['1m.-große', 'Karotte(n)', '1', 'Apfel', '1St...          84.0  205kcal   \n",
       "4  ['500g', 'Kartoffel(n)', '1', 'Zwiebel(n)', '1...           3.0      NaN   \n",
       "\n",
       "  preparation_time                                       comment_user  \\\n",
       "0           15 Min  [{'rating': 'rating-3', 'comment_time': '24.09...   \n",
       "1           30 Min  [{'rating': 'rating-5', 'comment_time': '10.08...   \n",
       "2           60 Min                                                NaN   \n",
       "3            5 Min  [{'rating': 'rating-1', 'comment_time': '13.01...   \n",
       "4           15 Min  [{'rating': 'rating-3', 'comment_time': '10.11...   \n",
       "\n",
       "                                          recipe_url  \n",
       "0  https://www.chefkoch.de/rezepte/23694213760282...  \n",
       "1  https://www.chefkoch.de/rezepte/18838313064020...  \n",
       "2  https://www.chefkoch.de/rezepte/36158315436795...  \n",
       "3  https://www.chefkoch.de/rezepte/20464013311985...  \n",
       "4  https://www.chefkoch.de/rezepte/33875015040182...  "
      ]
     },
     "execution_count": 7,
     "metadata": {},
     "output_type": "execute_result"
    }
   ],
   "source": [
    "data.head()"
   ]
  },
  {
   "cell_type": "markdown",
   "metadata": {},
   "source": [
    "### Association rules between comment user information and recipe attributes"
   ]
  },
  {
   "cell_type": "code",
   "execution_count": null,
   "metadata": {},
   "outputs": [],
   "source": []
  },
  {
   "cell_type": "markdown",
   "metadata": {},
   "source": [
    "### Association rules among the recipe attributes"
   ]
  },
  {
   "cell_type": "code",
   "execution_count": null,
   "metadata": {},
   "outputs": [],
   "source": []
  }
 ],
 "metadata": {
  "kernelspec": {
   "display_name": "Python 3",
   "language": "python",
   "name": "python3"
  },
  "language_info": {
   "codemirror_mode": {
    "name": "ipython",
    "version": 3
   },
   "file_extension": ".py",
   "mimetype": "text/x-python",
   "name": "python",
   "nbconvert_exporter": "python",
   "pygments_lexer": "ipython3",
   "version": "3.6.10"
  },
  "toc": {
   "base_numbering": 1,
   "nav_menu": {},
   "number_sections": true,
   "sideBar": true,
   "skip_h1_title": false,
   "title_cell": "Table of Contents",
   "title_sidebar": "Contents",
   "toc_cell": false,
   "toc_position": {},
   "toc_section_display": true,
   "toc_window_display": false
  }
 },
 "nbformat": 4,
 "nbformat_minor": 4
}
