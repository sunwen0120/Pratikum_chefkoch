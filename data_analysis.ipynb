{
 "cells": [
  {
   "cell_type": "code",
   "execution_count": 1,
   "metadata": {},
   "outputs": [],
   "source": [
    "import numpy as np"
   ]
  },
  {
   "cell_type": "markdown",
   "metadata": {},
   "source": [
    "## Helper Function"
   ]
  },
  {
   "cell_type": "code",
   "execution_count": 3,
   "metadata": {},
   "outputs": [],
   "source": [
    "def tags_preprocess(tags):\n",
    "    tags = tags.replace(\"'\",\"\")\n",
    "    tags = tags.replace(\" \",\"\")\n",
    "    tags = tags.replace(\"[\",\"\")\n",
    "    tags = tags.replace(\"]\",\"\")\n",
    "    tags = tags.split(\",\")\n",
    "    tags = [x.lower() for x in tags]\n",
    "    return tags"
   ]
  },
  {
   "cell_type": "code",
   "execution_count": 4,
   "metadata": {},
   "outputs": [],
   "source": [
    "def ingredients_preprocess(ingredients):\n",
    "    r = re.compile('[A-Z]{1}[a-zA-Z]+')\n",
    "    #ingredients = ''.join(i for i in ingredients if not i.isdigit())\n",
    "    ingredients = ingredients.replace(\"'\",\"\")\n",
    "    ingredients = ingredients.replace(\" \",\"\")\n",
    "    ingredients = ingredients.replace(\"[\",\"\")\n",
    "    ingredients = ingredients.replace(\"]\",\"\")\n",
    "    # remove text inside parentheses\n",
    "    ingredients = re.sub(r'\\([^())]*\\)',\"\", ingredients)\n",
    "    ingredients = ingredients.split(\",\")\n",
    "    ingredients = list(filter(r.match, ingredients))\n",
    "    ingredients = [x.lower() for x in ingredients]\n",
    "    return ingredients"
   ]
  },
  {
   "cell_type": "markdown",
   "metadata": {},
   "source": [
    "## Subgroup Discovery\n",
    "\n",
    "In this section we will use subgroup discovery to explore the association rules between attributes"
   ]
  },
  {
   "cell_type": "markdown",
   "metadata": {},
   "source": [
    "### Association rules between comment user information and recipe attributes"
   ]
  },
  {
   "cell_type": "code",
   "execution_count": null,
   "metadata": {},
   "outputs": [],
   "source": []
  },
  {
   "cell_type": "markdown",
   "metadata": {},
   "source": [
    "### Association rules among the recipe attributes"
   ]
  },
  {
   "cell_type": "code",
   "execution_count": null,
   "metadata": {},
   "outputs": [],
   "source": []
  }
 ],
 "metadata": {
  "kernelspec": {
   "display_name": "Python 3",
   "language": "python",
   "name": "python3"
  },
  "language_info": {
   "codemirror_mode": {
    "name": "ipython",
    "version": 3
   },
   "file_extension": ".py",
   "mimetype": "text/x-python",
   "name": "python",
   "nbconvert_exporter": "python",
   "pygments_lexer": "ipython3",
   "version": "3.6.10"
  },
  "toc": {
   "base_numbering": 1,
   "nav_menu": {},
   "number_sections": true,
   "sideBar": true,
   "skip_h1_title": false,
   "title_cell": "Table of Contents",
   "title_sidebar": "Contents",
   "toc_cell": false,
   "toc_position": {},
   "toc_section_display": true,
   "toc_window_display": false
  }
 },
 "nbformat": 4,
 "nbformat_minor": 4
}
